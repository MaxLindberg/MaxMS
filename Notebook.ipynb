{
 "cells": [
  {
   "cell_type": "markdown",
   "metadata": {},
   "source": [
    "# Calculation of N14 A$\\beta$ concentration using N15 labeled A$\\beta$ and MALDI-MS"
   ]
  },
  {
   "cell_type": "markdown",
   "metadata": {},
   "source": [
    "## Abstract\n",
    "Alzheimer's Disease (AD) is already a huge problem in today's society and is projected to become even worse in near future. A hallmark of AD is the formation of amyloid plaques, these mainly consist of a protein called amyloid beta (a.k.a. abeta or A$\\beta$). Much is still unkown about the formation of these plaques, both in terms of cause and mechanism. To help elucidate answers in these questions I'm studying the solubility of abeta, i.e. at what concentration does this protein aggregate and what intrinsic and extrinsic factors modulate this? An essential part of this is of course quantifying the concentration of abeta under different conditions but quantifying protein concentrations can be hard. As abeta doesn't contain any tryptophans and only 1 tyrosine, concentration determination by absorbance only works at quite high concentrations. Thus another method is needed, here I utilize matrix-assisted laser desorption ionization mass spectroscopy (MALDI-MS) to get a ratio of peak intensities from abeta and a chemically identical version of abeta with an extra neutron that I have added to the sample at a known concentration. As these N14 abeta peptides and N15 abeta peptides are chemically identical they will ionize equally in MS but the extra neutron will separate them and the ratio of peak intensities will be equal to the concentration ratio between them. As this quickly becomes very tedious work for many samples this notebook automates the process by reading in peak intensities from exported excel files, matching them to correct cleavage product froms protease digestion, pairs corrseponding N14 and N15 peaks, divides them with each other generating ratios, sorts these by user defined indices and finally plots the results. As example data the adsorption of abeta to pipette tips is used."
   ]
  },
  {
   "cell_type": "markdown",
   "metadata": {},
   "source": [
    "## Import packages & data\n"
   ]
  },
  {
   "cell_type": "code",
   "execution_count": 3,
   "metadata": {},
   "outputs": [],
   "source": [
    "import pandas as pd #for data handling\n",
    "import matplotlib.pyplot as plt #for plotting\n",
    "import string #for generating well names\n",
    "import numpy as np "
   ]
  },
  {
   "cell_type": "code",
   "execution_count": 4,
   "metadata": {},
   "outputs": [],
   "source": [
    "list_of_data = pd.read_excel('masslist.xlsx', sheet_name=None, header=2) #create a dictionary of pandas dataframes with each data frame corresponding to a sheet in the excel file."
   ]
  },
  {
   "cell_type": "markdown",
   "metadata": {},
   "source": [
    "Below is a switch for dev_mode. When this is true much more output will be generated which can be nice for development/troubleshooting. When it is set to false the notebook becomes much cleaner. "
   ]
  },
  {
   "cell_type": "code",
   "execution_count": 12,
   "metadata": {},
   "outputs": [],
   "source": [
    "dev_mode = True"
   ]
  },
  {
   "cell_type": "markdown",
   "metadata": {},
   "source": [
    "## Define peaks of interest\n",
    "Here is peak lists for A$\\beta_{m1-42}$ digested with either AspN or trypsin."
   ]
  },
  {
   "cell_type": "code",
   "execution_count": 6,
   "metadata": {},
   "outputs": [],
   "source": [
    "#ABm1_42_aspN_N14_peaks = [905.39,1905.91]\n",
    "#ABm1_42_aspN_N15_peaks = [917.36,1927.85]\n",
    "\n",
    "ABm1_42_tryp_N14_peaks = [768.33,1325.67,1336.60]\n",
    "ABm1_42_tryp_N15_peaks = [777.31,1339.63,1355.55]"
   ]
  },
  {
   "cell_type": "markdown",
   "metadata": {},
   "source": [
    "## Define the main function\n",
    "This function is what finds the relevant peaks based on above lists and a fault tolerance of m/z values. It then finds associated isotope peaks as which are + or - increments of 1 Da from the theoretical peaks as you have a natural isotope distribution (some carbons will be C13 and depending on how many the peak will come at another m/z value). It then sums up all the intensities for each of the peaks in the isotope pattern and divides the sum for N14 by that for N15 for each of the peaks defined above. Also indexes the generated list by well name and peak (based on N14 peaks and without decimals so the peaks are called 768, 1325 and 1336 in this case)"
   ]
  },
  {
   "cell_type": "code",
   "execution_count": 7,
   "metadata": {},
   "outputs": [],
   "source": [
    "def ratio_maker2(input_data,n14_peaks,n15_peaks,fault_tolerance):   #for ratios of all isotope peaks summed.\n",
    "    n14=n14_peaks\n",
    "    n15=n15_peaks\n",
    "    values=[] # this list will gather all calculated ratios as the for loop below works through the sheets in the input data.\n",
    "    index_list=[] # this will simultanously as the above gather well name and peak number to keep track on what ratios belong to what.\n",
    "    all_N14 = {} # this collects all isotope peaks used for the sums (and by extension the ratios)\n",
    "    all_N15 = {} # same as above \n",
    "    for x in input_data.keys():        \n",
    "        df=input_data[x] # define the current dataframe as df for convenience \n",
    "        for i in range(len(n14)):\n",
    "            tmp = df.loc[((df[\"m/z\"]>(n14[i]-fault_tolerance)) & (df[\"m/z\"]<(n14[i]+fault_tolerance)) |\n",
    "               (df[\"m/z\"]>(n15[i]-fault_tolerance)) & (df[\"m/z\"]<(n15[i]+fault_tolerance))), ] \n",
    "            #makes a dataframe with only the peaks from masslist.xlsx that are within the fault tolerance from the theoretical cleavage peaks\n",
    "            if len(tmp) > 2:\n",
    "                tmp=tmp.sort_values('SN',ascending=False).iloc[0:2]\n",
    "                # sometimes there is extra peaks very close to the ones of interest so this hopefully removes them\n",
    "                # by only keeping the 2 with highest signal to noise ratio \n",
    "            if len(tmp) == 2:\n",
    "                n14_isotopes= []\n",
    "                # If tmp is exactly 2 rows long then we should only have the main N14 and N15 peak           \n",
    "                n14_isotopes.append(df.loc[((df[\"m/z\"]>(n14[i]-fault_tolerance)) & (df[\"m/z\"]<(n14[i]+fault_tolerance))),])\n",
    "                # we then add the peak that are 1 +- 0.1 Da heavier then the main N14 peak and then the one 1 Da heavier then that one and so on \n",
    "                # until there is no more peaks that are 1 +- 0.1 Da heavier. This collects all the isotope peaks to the right of the main peak. \n",
    "                a=1\n",
    "                while (not df.loc[((df[\"m/z\"]>(tmp.iloc[0]['m/z']+a-0.1)) & (df[\"m/z\"]<(tmp.iloc[0]['m/z']+a+0.1))),].empty):\n",
    "                    n14_isotopes.append(df.loc[((df[\"m/z\"]>(tmp.iloc[0]['m/z']+a-0.1)) & (df[\"m/z\"]<(tmp.iloc[0]['m/z']+a+0.1))),])\n",
    "                    a+=1 \n",
    "                # we then do the same in the other direction\n",
    "                a=1\n",
    "                while (not df.loc[((df[\"m/z\"]>(tmp.iloc[0]['m/z']-a-0.1)) & (df[\"m/z\"]<(tmp.iloc[0]['m/z']-a+0.1))),].empty):\n",
    "                    n14_isotopes.append(df.loc[((df[\"m/z\"]>(tmp.iloc[0]['m/z']-a-0.1)) & (df[\"m/z\"]<(tmp.iloc[0]['m/z']-a+0.1))),])\n",
    "                    a+=1\n",
    "                # if we found any isotope peaks we concatenate them into one dataframe\n",
    "                if len(n14_isotopes)>1:\n",
    "                    df_14=pd.concat(n14_isotopes)\n",
    "                # otherwise we just use the main peak initially found\n",
    "                else:\n",
    "                    df_14=n14_isotopes[0]\n",
    "                # then we do the same for N15\n",
    "                n15_isotopes= []\n",
    "                n15_isotopes.append(df.loc[((df[\"m/z\"]>(n15[i]-fault_tolerance)) & (df[\"m/z\"]<(n15[i]+fault_tolerance))),])\n",
    "                a=1\n",
    "                while (not df.loc[((df[\"m/z\"]>(tmp.iloc[1]['m/z']+a-0.1)) & (df[\"m/z\"]<(tmp.iloc[1]['m/z']+a+0.1))),].empty):\n",
    "                    n15_isotopes.append(df.loc[((df[\"m/z\"]>(tmp.iloc[1]['m/z']+a-0.1)) & (df[\"m/z\"]<(tmp.iloc[1]['m/z']+a+0.1))),])\n",
    "                    a+=1 \n",
    "                a=1\n",
    "                while (not df.loc[((df[\"m/z\"]>(tmp.iloc[1]['m/z']-a-0.1)) & (df[\"m/z\"]<(tmp.iloc[1]['m/z']-a+0.1))),].empty):\n",
    "                    n15_isotopes.append(df.loc[((df[\"m/z\"]>(tmp.iloc[1]['m/z']-a-0.1)) & (df[\"m/z\"]<(tmp.iloc[1]['m/z']-a+0.1))),])\n",
    "                    a+=1\n",
    "                if len(n15_isotopes)>1:\n",
    "                    df_15=pd.concat(n15_isotopes) \n",
    "                else:\n",
    "                    df_15=n15_isotopes[0]\n",
    "                # then we sum all the intensities of the N14 peaks and divide that by the sum of the N15 peaks. These ratios are collected in the list \"values\"\n",
    "                values.append((df_14['Intens.'].sum()/df_15['Intens.'].sum()))\n",
    "                # we then add what well number and peak we are currently at.\n",
    "                index_list.append((x.split(\"_\")[-2],str(n14[i]).split('.')[0]))\n",
    "                # the two lines below here fill up a dictionary each with all collected isotope peaks and their signal to noise, intensities and so on.\n",
    "                # for the possibility to inspect what was done.\n",
    "                all_N14[index_list[-1]]=df_14\n",
    "                all_N15[index_list[-1]]=df_15\n",
    "    # we then make a dataframe of the ratios\n",
    "    data = pd.DataFrame({'Ratio':values})\n",
    "    # give it a reasonable index\n",
    "    data.index=pd.MultiIndex.from_tuples(index_list, names=[\"Well\",\"peak\"])\n",
    "    # and return it all\n",
    "    return data,all_N14,all_N15"
   ]
  },
  {
   "cell_type": "code",
   "execution_count": 11,
   "metadata": {},
   "outputs": [],
   "source": [
    "ratios_way2,all_N14,all_N15 = ratio_maker2(list_of_data,ABm1_42_tryp_N14_peaks,ABm1_42_tryp_N15_peaks,0.3) #uses the function defined above\n",
    "if dev_mode:\n",
    "    print(ratios_way2.index) # just to see which wells and peaks were included as a guide to if fault tolerance should be increased or decreased."
   ]
  },
  {
   "cell_type": "markdown",
   "metadata": {},
   "source": [
    "Export selected peaks as .ods files for transparency and troubleshooting."
   ]
  },
  {
   "cell_type": "code",
   "execution_count": 13,
   "metadata": {},
   "outputs": [],
   "source": [
    "Excelwriter = pd.ExcelWriter(\"all_N14.ods\",engine=\"odf\")\n",
    "for x in all_N14:\n",
    "    all_N14[x].to_excel(Excelwriter, sheet_name=str(x), index=False)\n",
    "Excelwriter.save()\n",
    "\n",
    "Excelwriter = pd.ExcelWriter(\"all_N15.ods\",engine=\"odf\")\n",
    "for x in all_N15:\n",
    "    all_N15[x].to_excel(Excelwriter, sheet_name=str(x), index=False)\n",
    "Excelwriter.save()"
   ]
  },
  {
   "cell_type": "markdown",
   "metadata": {},
   "source": [
    "## Generate new multi index\n",
    "Starting with generating all possible well names in a 384 plate (A1 to P24)"
   ]
  },
  {
   "cell_type": "code",
   "execution_count": 14,
   "metadata": {},
   "outputs": [],
   "source": [
    "well_names=[]\n",
    "for x in string.ascii_uppercase[0:16]:\n",
    "    for i in range(1,25):\n",
    "        well_names.append(x+str(i))"
   ]
  },
  {
   "cell_type": "markdown",
   "metadata": {},
   "source": [
    "Generating a sample list."
   ]
  },
  {
   "cell_type": "code",
   "execution_count": 16,
   "metadata": {},
   "outputs": [
    {
     "name": "stdout",
     "output_type": "stream",
     "text": [
      "['Sarstedt_00_1', 'Sarstedt_00_2', 'Sarstedt_00_3', 'Sarstedt_05_1', 'Sarstedt_05_2', 'Sarstedt_05_3', 'Sarstedt_10_1', 'Sarstedt_10_2', 'Sarstedt_10_3', 'Sarstedt_30_1', 'Sarstedt_30_2', 'Sarstedt_30_3']\n"
     ]
    }
   ],
   "source": [
    "#tip type\n",
    "samples1 = [\"Sarstedt\"]\n",
    "#number of tips\n",
    "samples2 = [\"00\",\"05\",\"10\",\"30\"]\n",
    "reps = [\"1\",\"2\",\"3\"]\n",
    "\n",
    "samples=[]\n",
    "for y in samples1:\n",
    "    for x in samples2:\n",
    "        for z in reps:\n",
    "            samples.append(y+'_'+x+'_'+z)\n",
    "\n",
    "if dev_mode:\n",
    "    print(samples)    "
   ]
  },
  {
   "cell_type": "markdown",
   "metadata": {},
   "source": [
    "Use the well names and sample names to create a conversion table for well name to sample name."
   ]
  },
  {
   "cell_type": "code",
   "execution_count": 17,
   "metadata": {},
   "outputs": [
    {
     "name": "stdout",
     "output_type": "stream",
     "text": [
      "{'K9': 'Sarstedt_00_1', 'K10': 'Sarstedt_00_2', 'K11': 'Sarstedt_00_3', 'K12': 'Sarstedt_05_1', 'K13': 'Sarstedt_05_2', 'K14': 'Sarstedt_05_3', 'K15': 'Sarstedt_10_1', 'K16': 'Sarstedt_10_2', 'K17': 'Sarstedt_10_3', 'L9': 'Sarstedt_30_1', 'L10': 'Sarstedt_30_2', 'L11': 'Sarstedt_30_3'}\n"
     ]
    }
   ],
   "source": [
    "#remember non-inclusive end-index!\n",
    "well_names_to_samples = list(zip(well_names[well_names.index('K9'):well_names.index('K18')],\n",
    "    samples[samples.index('Sarstedt_00_1'):samples.index('Sarstedt_30_1')]))\n",
    "\n",
    "well_names_to_samples.extend(\n",
    "      list(zip(well_names[well_names.index('L9'):well_names.index('L12')],\n",
    "    samples[samples.index('Sarstedt_30_1')::])))\n",
    "\n",
    "well_names_to_samples = dict(well_names_to_samples)\n",
    "if dev_mode:\n",
    "    print(well_names_to_samples)"
   ]
  },
  {
   "cell_type": "markdown",
   "metadata": {},
   "source": [
    "Make a new multi index from this conversion table."
   ]
  },
  {
   "cell_type": "code",
   "execution_count": 29,
   "metadata": {},
   "outputs": [
    {
     "name": "stdout",
     "output_type": "stream",
     "text": [
      "('Sarstedt', '00', '1', '768')\n",
      "('Sarstedt', '00', '1', '1325')\n",
      "('Sarstedt', '00', '1', '1336')\n",
      "('Sarstedt', '00', '2', '768')\n",
      "('Sarstedt', '00', '2', '1325')\n",
      "('Sarstedt', '00', '2', '1336')\n",
      "('Sarstedt', '00', '3', '768')\n",
      "('Sarstedt', '00', '3', '1325')\n",
      "('Sarstedt', '00', '3', '1336')\n",
      "('Sarstedt', '10', '1', '768')\n",
      "('Sarstedt', '10', '1', '1325')\n",
      "('Sarstedt', '10', '1', '1336')\n",
      "('Sarstedt', '10', '2', '768')\n",
      "('Sarstedt', '10', '2', '1325')\n",
      "('Sarstedt', '10', '2', '1336')\n",
      "('Sarstedt', '10', '3', '768')\n",
      "('Sarstedt', '10', '3', '1325')\n",
      "('Sarstedt', '10', '3', '1336')\n",
      "('Sarstedt', '30', '1', '768')\n",
      "('Sarstedt', '30', '1', '1325')\n",
      "('Sarstedt', '30', '1', '1336')\n",
      "('Sarstedt', '30', '2', '768')\n",
      "('Sarstedt', '30', '2', '1325')\n",
      "('Sarstedt', '30', '2', '1336')\n",
      "('Sarstedt', '30', '3', '768')\n",
      "('Sarstedt', '30', '3', '1325')\n",
      "('Sarstedt', '30', '3', '1336')\n",
      "('Sarstedt', '05', '1', '768')\n",
      "('Sarstedt', '05', '1', '1325')\n",
      "('Sarstedt', '05', '1', '1336')\n",
      "('Sarstedt', '05', '2', '768')\n",
      "('Sarstedt', '05', '2', '1325')\n",
      "('Sarstedt', '05', '2', '1336')\n",
      "('Sarstedt', '05', '3', '768')\n",
      "('Sarstedt', '05', '3', '1325')\n",
      "('Sarstedt', '05', '3', '1336')\n"
     ]
    }
   ],
   "source": [
    "#New multi index\n",
    "new_index=[]\n",
    "for x in ratios_way2.index:\n",
    "    new_index.append((well_names_to_samples[x[0]].split('_')[0],\n",
    "                       well_names_to_samples[x[0]].split('_')[1],\n",
    "                       well_names_to_samples[x[0]].split('_')[2],\n",
    "                       x[1]))\n",
    "if dev_mode:\n",
    "    print(*new_index, sep = \"\\n\")"
   ]
  },
  {
   "cell_type": "markdown",
   "metadata": {},
   "source": [
    "Apply the new index to the dataframe with ratios."
   ]
  },
  {
   "cell_type": "code",
   "execution_count": 31,
   "metadata": {},
   "outputs": [],
   "source": [
    "ratios_way2.index = pd.MultiIndex.from_tuples(new_index,names=[\"Tip brand\",\"# of tips\",\"rep\",\"peak\"])"
   ]
  },
  {
   "cell_type": "code",
   "execution_count": 32,
   "metadata": {},
   "outputs": [
    {
     "name": "stdout",
     "output_type": "stream",
     "text": [
      "                                 Ratio\n",
      "Tip brand # of tips rep peak          \n",
      "Sarstedt  00        1   768   1.021829\n",
      "                        1325  0.221023\n",
      "                        1336  0.155446\n",
      "                    2   768   1.120642\n",
      "                        1325  0.378128\n",
      "                        1336  0.631729\n",
      "                    3   768   1.221379\n",
      "                        1325  0.609725\n",
      "                        1336  1.075337\n",
      "          10        1   768   0.841388\n",
      "                        1325  0.497917\n",
      "                        1336  0.855660\n",
      "                    2   768   0.891556\n",
      "                        1325  0.458259\n",
      "                        1336  0.739638\n",
      "                    3   768   0.844550\n",
      "                        1325  0.500748\n",
      "                        1336  0.870660\n",
      "          30        1   768   0.854325\n",
      "                        1325  0.339784\n",
      "                        1336  0.606284\n",
      "                    2   768   0.752720\n",
      "                        1325  0.221407\n",
      "                        1336  0.682372\n",
      "                    3   768   0.780152\n",
      "                        1325  0.251733\n",
      "                        1336  0.578905\n",
      "          05        1   768   0.941458\n",
      "                        1325  0.379415\n",
      "                        1336  0.747640\n",
      "                    2   768   0.905201\n",
      "                        1325  0.525983\n",
      "                        1336  0.759472\n",
      "                    3   768   0.932171\n",
      "                        1325  0.542683\n",
      "                        1336  0.932634\n"
     ]
    }
   ],
   "source": [
    "if dev_mode:\n",
    "    print(ratios_way2)"
   ]
  },
  {
   "cell_type": "markdown",
   "metadata": {},
   "source": [
    "## Plotting the data\n",
    "First a plotting function is defined. Which plots arbitrary number of plots above each other with s.e.m. as error bars. It also saves the plot as .svg and .pdf."
   ]
  },
  {
   "cell_type": "code",
   "execution_count": 119,
   "metadata": {},
   "outputs": [],
   "source": [
    "def plotter(data,subplots_number,subplots_names,x_axis,title,y_axis,filename):\n",
    "    plt.rcParams[\"figure.figsize\"] = (3.5,7.2)\n",
    "    plt.rcParams.update({'font.size':18})\n",
    "    fig = plt.figure(constrained_layout=True,figsize=(10,10))\n",
    "    ax_array = fig.subplots(subplots_number,1)\n",
    "    fig.suptitle(title)\n",
    "    for i in range(subplots_number):\n",
    "         data.filter(like=subplots_names[i],axis=0).groupby([x_axis]).mean().plot(kind='bar',\n",
    "                     logy=False, legend=False, ax=ax_array[i], figsize=(10,10), \n",
    "                     title=subplots_names[i], sharex=True, ylabel=y_axis, \n",
    "                     )\n",
    "    plist = []\n",
    "    tips = data.groupby([x_axis]).mean().index\n",
    "\n",
    "    ind = data.groupby([x_axis]).mean().index    # the x locations for the groups\n",
    "    width = 0.5\n",
    "    i=0\n",
    "    for x in subplots_names:\n",
    "        conc=data.filter(like=x,axis=0).groupby([x_axis]).mean().Ratio\n",
    "        sems=data.filter(like=x,axis=0).groupby([x_axis]).sem().Ratio\n",
    "        plist.append(ax_array[i].bar(ind, conc, width, yerr=sems,color='darkred'))\n",
    "        i+=1\n",
    "    for i in range(subplots_number):\n",
    "        ax_array[i].bar_label(plist[i],fmt='%.2f',label_type='center')\n",
    "    plt.savefig(filename+'.svg')\n",
    "    plt.savefig(filename+'.pdf')\n",
    "    plt.show()"
   ]
  },
  {
   "cell_type": "markdown",
   "metadata": {},
   "source": [
    "Then we can use this to plot the ratios.\n",
    "The format of the function is:\n",
    "\n",
    "`plotter(data,subplots_number,subplots_names` _this is supposed to be a list of names corresponding to index values as above_ `x_axis` _this is both what is displayed as x axis and what is actually used so for now it has to be a index category as defined above_ `title, y_axis` _this is only what text is displayed though_ `filename)`\n",
    "\n",
    "To include $LaTeX$ code in titles preface your string with an r, like this: `r'bla bla $<LaTeX code here>$ bla'`. "
   ]
  },
  {
   "cell_type": "code",
   "execution_count": 120,
   "metadata": {},
   "outputs": [
    {
     "data": {
      "image/png": "[encoded data removed]",
      "text/plain": [
       "<Figure size 720x720 with 3 Axes>"
      ]
     },
     "metadata": {
      "needs_background": "light"
     },
     "output_type": "display_data"
    }
   ],
   "source": [
    "plotter(ratios_way2,3,['768','1325','1336'],\"# of tips\",'Ratios of N14/N15 for different peaks and # of tips','Ratio','Ratios')"
   ]
  },
  {
   "cell_type": "markdown",
   "metadata": {},
   "source": [
    "While it is good to see the ratios (too high or too low ratios would not be particularly trustworthy), concentration is what we are really after so below I convert the ratios to concentrations. In this case I spiked the N14 samples with a final conc of 2.61 µM N15 labeled $A{\\beta}_{m1-42}$, but this spiking also diluted the sample a bit so to get the initial N14 concentration, $c_{N14}$ I calculate in the following way:\n",
    "$$c_{N14} = \\frac{\\sum(I_{N14})}{\\sum(I_{N15})}*c_{N15}*\\frac{V_2}{V_1}$$\n",
    "\n",
    "Where $I_{N14}$ and $I_{N15}$ are the peak intensities of the N14 and N15 peaks respectively, $c_{N15}$ is the N15 concentration after spiking and $V_2$ and $V_1$ are the total volumes after and before the spiking respectively. For this particular case the volumes were 115 and 100 µl so to convert my ratios to concentrations I have to multiply them with $2.61*1.15=3$."
   ]
  },
  {
   "cell_type": "code",
   "execution_count": 84,
   "metadata": {},
   "outputs": [
    {
     "name": "stdout",
     "output_type": "stream",
     "text": [
      "                                 Ratio\n",
      "Tip brand # of tips rep peak          \n",
      "Sarstedt  00        1   768   3.065488\n",
      "                        1325  0.663068\n",
      "                        1336  0.466338\n",
      "                    2   768   3.361925\n",
      "                        1325  1.134385\n",
      "                        1336  1.895187\n",
      "                    3   768   3.664137\n",
      "                        1325  1.829176\n",
      "                        1336  3.226011\n",
      "          10        1   768   2.524163\n",
      "                        1325  1.493750\n",
      "                        1336  2.566979\n",
      "                    2   768   2.674669\n",
      "                        1325  1.374778\n",
      "                        1336  2.218913\n",
      "                    3   768   2.533651\n",
      "                        1325  1.502245\n",
      "                        1336  2.611979\n",
      "          30        1   768   2.562975\n",
      "                        1325  1.019353\n",
      "                        1336  1.818851\n",
      "                    2   768   2.258159\n",
      "                        1325  0.664222\n",
      "                        1336  2.047115\n",
      "                    3   768   2.340455\n",
      "                        1325  0.755199\n",
      "                        1336  1.736714\n",
      "          05        1   768   2.824373\n",
      "                        1325  1.138244\n",
      "                        1336  2.242920\n",
      "                    2   768   2.715604\n",
      "                        1325  1.577948\n",
      "                        1336  2.278417\n",
      "                    3   768   2.796513\n",
      "                        1325  1.628048\n",
      "                        1336  2.797903\n"
     ]
    }
   ],
   "source": [
    "conc_way2 = ratios_way2 * 3\n",
    "if dev_mode:\n",
    "    print(conc_way2)"
   ]
  },
  {
   "cell_type": "markdown",
   "metadata": {},
   "source": [
    "To plot the concentrations we can just change input to the `plotter` function.\n",
    "To include $LaTeX$ code in titles preface your string with an r, like this: `r'bla bla $<LaTeX code here>$ bla'`. "
   ]
  },
  {
   "cell_type": "code",
   "execution_count": 122,
   "metadata": {},
   "outputs": [
    {
     "data": {
      "image/png": "[encoded data removed]",
      "text/plain": [
       "<Figure size 720x720 with 3 Axes>"
      ]
     },
     "metadata": {
      "needs_background": "light"
     },
     "output_type": "display_data"
    }
   ],
   "source": [
    "plotter(ratios_way2,3,['768','1325','1336'],\"# of tips\",r'$A\\beta$ adsorption to pipette tips',r'Conc. N14 $A\\beta$ / µM','Concentrations')"
   ]
  },
  {
   "cell_type": "markdown",
   "metadata": {},
   "source": [
    "## Done! "
   ]
  }
 ],
 "metadata": {
  "kernelspec": {
   "display_name": "Python 3",
   "language": "python",
   "name": "python3"
  },
  "language_info": {
   "codemirror_mode": {
    "name": "ipython",
    "version": 3
   },
   "file_extension": ".py",
   "mimetype": "text/x-python",
   "name": "python",
   "nbconvert_exporter": "python",
   "pygments_lexer": "ipython3",
   "version": "3.9.2"
  }
 },
 "nbformat": 4,
 "nbformat_minor": 4
}
