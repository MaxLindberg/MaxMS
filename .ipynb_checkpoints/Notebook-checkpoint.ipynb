{
 "cells": [
  {
   "cell_type": "markdown",
   "metadata": {},
   "source": [
    "# Calculation of N14 A$\\beta$ concentration using N15 labeled A$\\beta$ and MALDI-MS"
   ]
  },
  {
   "cell_type": "markdown",
   "metadata": {},
   "source": [
    "To do:\n",
    "* document all the code\n",
    "* ~document with markdown around the code~\n",
    "* ~save the processed data~\n",
    "* maybe some extra controls\n",
    "* make composite plot of all peaks\n",
    "* fix styling of plots\n",
    "* Get a DOI\n",
    "* insert some references\n",
    "* Find stackoverflow answer to give cred? or modify enough to not need it?"
   ]
  },
  {
   "cell_type": "markdown",
   "metadata": {},
   "source": [
    "## Abstract\n",
    "Alzheimer's Disease (AD) is already a huge problem in today's society and is projected to become even worse in near future. A hallmark of AD is the formation of amyloid plaques, these mainly consist of a protein called amyloid beta (a.k.a. abeta or A$\\beta$). Much is still unkown about the formation of these plaques, both in terms of cause and mechanism. To help elucidate answers in these questions I'm studying the solubility of abeta, i.e. at what concentration does this protein aggregate and what intrinsic and extrinsic factors modulate this? An essential part of this is of course quantifying the concentration of abeta under different conditions but quantifying protein concentrations can be hard. As abeta doesn't contain any tryptophans and only 1 tyrosine, concentration determination by absorbance only works at quite high concentrations. Thus another method is needed, here I utilize matrix-assisted laser desorption ionization mass spectroscopy (MALDI-MS) to get a ratio of peak intensities from abeta and a chemically identical version of abeta with an extra neutron that I have added to the sample at a known concentration. As these N14 abeta peptides and N15 abeta peptides are chemically identical they will ionize equally in MS but the extra neutron will separate them and the ratio of peak intensities will be equal to the concentration ratio between them. As this quickly becomes very tedious work for many samples this notebook automates the process by reading in peak intensities from exported excel files, matching them to correct cleavage product froms protease digestion, pairs corrseponding N14 and N15 peaks, divides them with each other generating ratios, sorts these by user defined indices and finally plots the results. As example data the adsorption of abeta to pipette tips is used."
   ]
  },
  {
   "cell_type": "markdown",
   "metadata": {},
   "source": [
    "## Import packages & data\n"
   ]
  },
  {
   "cell_type": "code",
   "execution_count": 3,
   "metadata": {},
   "outputs": [],
   "source": [
    "import pandas as pd #for data handling\n",
    "import matplotlib.pyplot as plt #for plotting\n",
    "#import matplotlib  #for dev\n",
    "import string #for generating well names\n",
    "#import numpy as np #needed?"
   ]
  },
  {
   "cell_type": "code",
   "execution_count": 4,
   "metadata": {},
   "outputs": [],
   "source": [
    "list_of_data = pd.read_excel('masslist.xlsx', sheet_name=None, header=2) #create a dictionary of pandas dataframes with each data frame corresponding to a sheet in the excel file.\n"
   ]
  },
  {
   "cell_type": "markdown",
   "metadata": {},
   "source": [
    "## Define peaks of interest\n",
    "Here is peak lists for A$\\beta_{m1-42}$ digested with either AspN or trypsin."
   ]
  },
  {
   "cell_type": "code",
   "execution_count": 5,
   "metadata": {},
   "outputs": [],
   "source": [
    "#ABm1_42_aspN_N14_peaks = [905.39,1905.91]\n",
    "#ABm1_42_aspN_N15_peaks = [917.36,1927.85]\n",
    "\n",
    "ABm1_42_tryp_N14_peaks = [768.33,1325.67,1336.60]\n",
    "ABm1_42_tryp_N15_peaks = [777.31,1339.63,1355.55]"
   ]
  },
  {
   "cell_type": "markdown",
   "metadata": {},
   "source": [
    "## Define the main function\n",
    "This function is what finds the relevant peaks based on above lists and a fault tolerance of m/z values. It then finds associated isotope peaks as which are + or - increments of 1 Da from the theoretical peaks as you have a natural isotope distribution (some carbons will be C13 and depending on how many the peak will come at another m/z value). It then sums up all the intensities for each of the peaks in the isotope pattern and divides the sum for N14 by that for N15 for each of the peaks defined above. Also indexes the generated list by well name and peak (based on N14 peaks and without decimals so the peaks are called 768, 1325 and 1336 in this case)"
   ]
  },
  {
   "cell_type": "code",
   "execution_count": 6,
   "metadata": {},
   "outputs": [],
   "source": [
    "def ratio_maker2(input_data,n14_peaks,n15_peaks,fault_tolerance):   #for ratios of all isotope peaks summed.\n",
    "    n14=n14_peaks\n",
    "    n15=n15_peaks\n",
    "    values=[]\n",
    "    index_list=[]\n",
    "    all_N14 = {}\n",
    "    all_N15 = {}\n",
    "    for x in input_data.keys():        \n",
    "        df=input_data[x]\n",
    "        for i in range(len(n14)):\n",
    "            tmp = df.loc[((df[\"m/z\"]>(n14[i]-fault_tolerance)) & (df[\"m/z\"]<(n14[i]+fault_tolerance)) |\n",
    "               (df[\"m/z\"]>(n15[i]-fault_tolerance)) & (df[\"m/z\"]<(n15[i]+fault_tolerance))), ]\n",
    "            if len(tmp) > 2:\n",
    "                tmp=tmp.sort_values('SN',ascending=False).iloc[0:2]\n",
    "            if len(tmp) == 2:\n",
    "                n14_isotopes= []\n",
    "                           \n",
    "                n14_isotopes.append(df.loc[((df[\"m/z\"]>(n14[i]-fault_tolerance)) & (df[\"m/z\"]<(n14[i]+fault_tolerance))),])\n",
    "                a=1\n",
    "                while (not df.loc[((df[\"m/z\"]>(tmp.iloc[0]['m/z']+a-0.1)) & (df[\"m/z\"]<(tmp.iloc[0]['m/z']+a+0.1))),].empty):\n",
    "                    n14_isotopes.append(df.loc[((df[\"m/z\"]>(tmp.iloc[0]['m/z']+a-0.1)) & (df[\"m/z\"]<(tmp.iloc[0]['m/z']+a+0.1))),])\n",
    "                    a+=1 \n",
    "                a=1\n",
    "                while (not df.loc[((df[\"m/z\"]>(tmp.iloc[0]['m/z']-a-0.1)) & (df[\"m/z\"]<(tmp.iloc[0]['m/z']-a+0.1))),].empty):\n",
    "                    n14_isotopes.append(df.loc[((df[\"m/z\"]>(tmp.iloc[0]['m/z']-a-0.1)) & (df[\"m/z\"]<(tmp.iloc[0]['m/z']-a+0.1))),])\n",
    "                    a+=1\n",
    "                if len(n14_isotopes)>1:\n",
    "                    df_14=pd.concat(n14_isotopes)\n",
    "                else:\n",
    "                    df_14=n14_isotopes[0]\n",
    "                \n",
    "                n15_isotopes= []\n",
    "                n15_isotopes.append(df.loc[((df[\"m/z\"]>(n15[i]-fault_tolerance)) & (df[\"m/z\"]<(n15[i]+fault_tolerance))),])\n",
    "                a=1\n",
    "                while (not df.loc[((df[\"m/z\"]>(tmp.iloc[1]['m/z']+a-0.1)) & (df[\"m/z\"]<(tmp.iloc[1]['m/z']+a+0.1))),].empty):\n",
    "                    n15_isotopes.append(df.loc[((df[\"m/z\"]>(tmp.iloc[1]['m/z']+a-0.1)) & (df[\"m/z\"]<(tmp.iloc[1]['m/z']+a+0.1))),])\n",
    "                    a+=1 \n",
    "                a=1\n",
    "                while (not df.loc[((df[\"m/z\"]>(tmp.iloc[1]['m/z']-a-0.1)) & (df[\"m/z\"]<(tmp.iloc[1]['m/z']-a+0.1))),].empty):\n",
    "                    n15_isotopes.append(df.loc[((df[\"m/z\"]>(tmp.iloc[1]['m/z']-a-0.1)) & (df[\"m/z\"]<(tmp.iloc[1]['m/z']-a+0.1))),])\n",
    "                    a+=1\n",
    "                if len(n15_isotopes)>1:\n",
    "                    df_15=pd.concat(n15_isotopes) \n",
    "                else:\n",
    "                    df_15=n15_isotopes[0]\n",
    "                values.append((df_14['Intens.'].sum()/df_15['Intens.'].sum()))\n",
    "                index_list.append((x.split(\"_\")[-2],str(n14[i]).split('.')[0]))\n",
    "                all_N14[index_list[-1]]=df_14\n",
    "                all_N15[index_list[-1]]=df_15\n",
    "    data = pd.DataFrame({'Ratio':values})      \n",
    "    data.index=pd.MultiIndex.from_tuples(index_list, names=[\"Well\",\"peak\"])\n",
    "    return data,all_N14,all_N15"
   ]
  },
  {
   "cell_type": "code",
   "execution_count": 7,
   "metadata": {},
   "outputs": [
    {
     "data": {
      "text/plain": [
       "MultiIndex([( 'K9',  '768'),\n",
       "            ( 'K9', '1325'),\n",
       "            ( 'K9', '1336'),\n",
       "            ('K10',  '768'),\n",
       "            ('K10', '1325'),\n",
       "            ('K10', '1336'),\n",
       "            ('K11',  '768'),\n",
       "            ('K11', '1325'),\n",
       "            ('K11', '1336'),\n",
       "            ('K15',  '768'),\n",
       "            ('K15', '1325'),\n",
       "            ('K15', '1336'),\n",
       "            ('K16',  '768'),\n",
       "            ('K16', '1325'),\n",
       "            ('K16', '1336'),\n",
       "            ('K17',  '768'),\n",
       "            ('K17', '1325'),\n",
       "            ('K17', '1336'),\n",
       "            ( 'L9',  '768'),\n",
       "            ( 'L9', '1325'),\n",
       "            ( 'L9', '1336'),\n",
       "            ('L10',  '768'),\n",
       "            ('L10', '1325'),\n",
       "            ('L10', '1336'),\n",
       "            ('L11',  '768'),\n",
       "            ('L11', '1325'),\n",
       "            ('L11', '1336'),\n",
       "            ('K12',  '768'),\n",
       "            ('K12', '1325'),\n",
       "            ('K12', '1336'),\n",
       "            ('K13',  '768'),\n",
       "            ('K13', '1325'),\n",
       "            ('K13', '1336'),\n",
       "            ('K14',  '768'),\n",
       "            ('K14', '1325'),\n",
       "            ('K14', '1336')],\n",
       "           names=['Well', 'peak'])"
      ]
     },
     "execution_count": 7,
     "metadata": {},
     "output_type": "execute_result"
    }
   ],
   "source": [
    "ratios_way2,all_N14,all_N15 = ratio_maker2(list_of_data,ABm1_42_tryp_N14_peaks,ABm1_42_tryp_N15_peaks,0.3) #uses the function defined above\n",
    "ratios_way2.index # just to see which wells and peaks were included as a guide to if fault tolerance should be increased or decreased."
   ]
  },
  {
   "cell_type": "markdown",
   "metadata": {},
   "source": [
    "Export selected peaks as .ods files for transparency and troubleshooting."
   ]
  },
  {
   "cell_type": "code",
   "execution_count": 8,
   "metadata": {},
   "outputs": [],
   "source": [
    "Excelwriter = pd.ExcelWriter(\"all_N14.ods\",engine=\"odf\")\n",
    "for x in all_N14:\n",
    "    all_N14[x].to_excel(Excelwriter, sheet_name=str(x), index=False)\n",
    "Excelwriter.save()\n",
    "\n",
    "Excelwriter = pd.ExcelWriter(\"all_N15.ods\",engine=\"odf\")\n",
    "for x in all_N15:\n",
    "    all_N15[x].to_excel(Excelwriter, sheet_name=str(x), index=False)\n",
    "Excelwriter.save()"
   ]
  },
  {
   "cell_type": "markdown",
   "metadata": {},
   "source": [
    "## Generate new multi index\n",
    "Starting with generating all possible well names in a 384 plate (A1 to P24)"
   ]
  },
  {
   "cell_type": "code",
   "execution_count": 10,
   "metadata": {},
   "outputs": [],
   "source": [
    "well_names=[]\n",
    "for x in string.ascii_uppercase[0:16]:\n",
    "    for i in range(1,25):\n",
    "        well_names.append(x+str(i))"
   ]
  },
  {
   "cell_type": "markdown",
   "metadata": {},
   "source": [
    "Generating a sample list."
   ]
  },
  {
   "cell_type": "code",
   "execution_count": 11,
   "metadata": {},
   "outputs": [
    {
     "data": {
      "text/plain": [
       "['Sarstedt_00_1',\n",
       " 'Sarstedt_00_2',\n",
       " 'Sarstedt_00_3',\n",
       " 'Sarstedt_05_1',\n",
       " 'Sarstedt_05_2',\n",
       " 'Sarstedt_05_3',\n",
       " 'Sarstedt_10_1',\n",
       " 'Sarstedt_10_2',\n",
       " 'Sarstedt_10_3',\n",
       " 'Sarstedt_30_1',\n",
       " 'Sarstedt_30_2',\n",
       " 'Sarstedt_30_3']"
      ]
     },
     "execution_count": 11,
     "metadata": {},
     "output_type": "execute_result"
    }
   ],
   "source": [
    "#tip type\n",
    "samples1 = [\"Sarstedt\"]\n",
    "#number of tips\n",
    "samples2 = [\"00\",\"05\",\"10\",\"30\"]\n",
    "reps = [\"1\",\"2\",\"3\"]\n",
    "\n",
    "samples=[]\n",
    "for y in samples1:\n",
    "    for x in samples2:\n",
    "        for z in reps:\n",
    "            samples.append(y+'_'+x+'_'+z)\n",
    "\n",
    "samples    "
   ]
  },
  {
   "cell_type": "markdown",
   "metadata": {},
   "source": [
    "Use the well names and sample names to create a conversion table for well name to sample name."
   ]
  },
  {
   "cell_type": "code",
   "execution_count": 12,
   "metadata": {},
   "outputs": [
    {
     "data": {
      "text/plain": [
       "{'K9': 'Sarstedt_00_1',\n",
       " 'K10': 'Sarstedt_00_2',\n",
       " 'K11': 'Sarstedt_00_3',\n",
       " 'K12': 'Sarstedt_05_1',\n",
       " 'K13': 'Sarstedt_05_2',\n",
       " 'K14': 'Sarstedt_05_3',\n",
       " 'K15': 'Sarstedt_10_1',\n",
       " 'K16': 'Sarstedt_10_2',\n",
       " 'K17': 'Sarstedt_10_3',\n",
       " 'L9': 'Sarstedt_30_1',\n",
       " 'L10': 'Sarstedt_30_2',\n",
       " 'L11': 'Sarstedt_30_3'}"
      ]
     },
     "execution_count": 12,
     "metadata": {},
     "output_type": "execute_result"
    }
   ],
   "source": [
    "#remember non-inclusive end-index!\n",
    "well_names_to_samples = list(zip(well_names[well_names.index('K9'):well_names.index('K18')],\n",
    "    samples[samples.index('Sarstedt_00_1'):samples.index('Sarstedt_30_1')]))\n",
    "\n",
    "well_names_to_samples.extend(\n",
    "      list(zip(well_names[well_names.index('L9'):well_names.index('L12')],\n",
    "    samples[samples.index('Sarstedt_30_1')::])))\n",
    "\n",
    "well_names_to_samples = dict(well_names_to_samples)\n",
    "well_names_to_samples"
   ]
  },
  {
   "cell_type": "markdown",
   "metadata": {},
   "source": [
    "Make a new multi index from this conversion table."
   ]
  },
  {
   "cell_type": "code",
   "execution_count": 13,
   "metadata": {},
   "outputs": [
    {
     "data": {
      "text/plain": [
       "[('Sarstedt', '00', '1', '768'),\n",
       " ('Sarstedt', '00', '1', '1325'),\n",
       " ('Sarstedt', '00', '1', '1336'),\n",
       " ('Sarstedt', '00', '2', '768'),\n",
       " ('Sarstedt', '00', '2', '1325'),\n",
       " ('Sarstedt', '00', '2', '1336'),\n",
       " ('Sarstedt', '00', '3', '768'),\n",
       " ('Sarstedt', '00', '3', '1325'),\n",
       " ('Sarstedt', '00', '3', '1336'),\n",
       " ('Sarstedt', '10', '1', '768'),\n",
       " ('Sarstedt', '10', '1', '1325'),\n",
       " ('Sarstedt', '10', '1', '1336'),\n",
       " ('Sarstedt', '10', '2', '768'),\n",
       " ('Sarstedt', '10', '2', '1325'),\n",
       " ('Sarstedt', '10', '2', '1336'),\n",
       " ('Sarstedt', '10', '3', '768'),\n",
       " ('Sarstedt', '10', '3', '1325'),\n",
       " ('Sarstedt', '10', '3', '1336'),\n",
       " ('Sarstedt', '30', '1', '768'),\n",
       " ('Sarstedt', '30', '1', '1325'),\n",
       " ('Sarstedt', '30', '1', '1336'),\n",
       " ('Sarstedt', '30', '2', '768'),\n",
       " ('Sarstedt', '30', '2', '1325'),\n",
       " ('Sarstedt', '30', '2', '1336'),\n",
       " ('Sarstedt', '30', '3', '768'),\n",
       " ('Sarstedt', '30', '3', '1325'),\n",
       " ('Sarstedt', '30', '3', '1336'),\n",
       " ('Sarstedt', '05', '1', '768'),\n",
       " ('Sarstedt', '05', '1', '1325'),\n",
       " ('Sarstedt', '05', '1', '1336'),\n",
       " ('Sarstedt', '05', '2', '768'),\n",
       " ('Sarstedt', '05', '2', '1325'),\n",
       " ('Sarstedt', '05', '2', '1336'),\n",
       " ('Sarstedt', '05', '3', '768'),\n",
       " ('Sarstedt', '05', '3', '1325'),\n",
       " ('Sarstedt', '05', '3', '1336')]"
      ]
     },
     "execution_count": 13,
     "metadata": {},
     "output_type": "execute_result"
    }
   ],
   "source": [
    "#New multi index\n",
    "new_index=[]\n",
    "for x in ratios_way2.index:\n",
    "    new_index.append((well_names_to_samples[x[0]].split('_')[0],\n",
    "                       well_names_to_samples[x[0]].split('_')[1],\n",
    "                       well_names_to_samples[x[0]].split('_')[2],\n",
    "                       x[1]))\n",
    "new_index"
   ]
  },
  {
   "cell_type": "markdown",
   "metadata": {},
   "source": [
    "Apply the new index to the dataframe with ratios."
   ]
  },
  {
   "cell_type": "code",
   "execution_count": 14,
   "metadata": {},
   "outputs": [],
   "source": [
    "ratios_way2.index = pd.MultiIndex.from_tuples(new_index,names=[\"Tip brand\",\"# of tips\",\"rep\",\"peak\"])"
   ]
  },
  {
   "cell_type": "code",
   "execution_count": 15,
   "metadata": {},
   "outputs": [
    {
     "data": {
      "text/html": [
       "<div>\n",
       "<style scoped>\n",
       "    .dataframe tbody tr th:only-of-type {\n",
       "        vertical-align: middle;\n",
       "    }\n",
       "\n",
       "    .dataframe tbody tr th {\n",
       "        vertical-align: top;\n",
       "    }\n",
       "\n",
       "    .dataframe thead th {\n",
       "        text-align: right;\n",
       "    }\n",
       "</style>\n",
       "<table border=\"1\" class=\"dataframe\">\n",
       "  <thead>\n",
       "    <tr style=\"text-align: right;\">\n",
       "      <th></th>\n",
       "      <th></th>\n",
       "      <th></th>\n",
       "      <th></th>\n",
       "      <th>Ratio</th>\n",
       "    </tr>\n",
       "    <tr>\n",
       "      <th>Tip brand</th>\n",
       "      <th># of tips</th>\n",
       "      <th>rep</th>\n",
       "      <th>peak</th>\n",
       "      <th></th>\n",
       "    </tr>\n",
       "  </thead>\n",
       "  <tbody>\n",
       "    <tr>\n",
       "      <th rowspan=\"36\" valign=\"top\">Sarstedt</th>\n",
       "      <th rowspan=\"9\" valign=\"top\">00</th>\n",
       "      <th rowspan=\"3\" valign=\"top\">1</th>\n",
       "      <th>768</th>\n",
       "      <td>1.021829</td>\n",
       "    </tr>\n",
       "    <tr>\n",
       "      <th>1325</th>\n",
       "      <td>0.221023</td>\n",
       "    </tr>\n",
       "    <tr>\n",
       "      <th>1336</th>\n",
       "      <td>0.155446</td>\n",
       "    </tr>\n",
       "    <tr>\n",
       "      <th rowspan=\"3\" valign=\"top\">2</th>\n",
       "      <th>768</th>\n",
       "      <td>1.120642</td>\n",
       "    </tr>\n",
       "    <tr>\n",
       "      <th>1325</th>\n",
       "      <td>0.378128</td>\n",
       "    </tr>\n",
       "    <tr>\n",
       "      <th>1336</th>\n",
       "      <td>0.631729</td>\n",
       "    </tr>\n",
       "    <tr>\n",
       "      <th rowspan=\"3\" valign=\"top\">3</th>\n",
       "      <th>768</th>\n",
       "      <td>1.221379</td>\n",
       "    </tr>\n",
       "    <tr>\n",
       "      <th>1325</th>\n",
       "      <td>0.609725</td>\n",
       "    </tr>\n",
       "    <tr>\n",
       "      <th>1336</th>\n",
       "      <td>1.075337</td>\n",
       "    </tr>\n",
       "    <tr>\n",
       "      <th rowspan=\"9\" valign=\"top\">10</th>\n",
       "      <th rowspan=\"3\" valign=\"top\">1</th>\n",
       "      <th>768</th>\n",
       "      <td>0.841388</td>\n",
       "    </tr>\n",
       "    <tr>\n",
       "      <th>1325</th>\n",
       "      <td>0.497917</td>\n",
       "    </tr>\n",
       "    <tr>\n",
       "      <th>1336</th>\n",
       "      <td>0.855660</td>\n",
       "    </tr>\n",
       "    <tr>\n",
       "      <th rowspan=\"3\" valign=\"top\">2</th>\n",
       "      <th>768</th>\n",
       "      <td>0.891556</td>\n",
       "    </tr>\n",
       "    <tr>\n",
       "      <th>1325</th>\n",
       "      <td>0.458259</td>\n",
       "    </tr>\n",
       "    <tr>\n",
       "      <th>1336</th>\n",
       "      <td>0.739638</td>\n",
       "    </tr>\n",
       "    <tr>\n",
       "      <th rowspan=\"3\" valign=\"top\">3</th>\n",
       "      <th>768</th>\n",
       "      <td>0.844550</td>\n",
       "    </tr>\n",
       "    <tr>\n",
       "      <th>1325</th>\n",
       "      <td>0.500748</td>\n",
       "    </tr>\n",
       "    <tr>\n",
       "      <th>1336</th>\n",
       "      <td>0.870660</td>\n",
       "    </tr>\n",
       "    <tr>\n",
       "      <th rowspan=\"9\" valign=\"top\">30</th>\n",
       "      <th rowspan=\"3\" valign=\"top\">1</th>\n",
       "      <th>768</th>\n",
       "      <td>0.854325</td>\n",
       "    </tr>\n",
       "    <tr>\n",
       "      <th>1325</th>\n",
       "      <td>0.339784</td>\n",
       "    </tr>\n",
       "    <tr>\n",
       "      <th>1336</th>\n",
       "      <td>0.606284</td>\n",
       "    </tr>\n",
       "    <tr>\n",
       "      <th rowspan=\"3\" valign=\"top\">2</th>\n",
       "      <th>768</th>\n",
       "      <td>0.752720</td>\n",
       "    </tr>\n",
       "    <tr>\n",
       "      <th>1325</th>\n",
       "      <td>0.221407</td>\n",
       "    </tr>\n",
       "    <tr>\n",
       "      <th>1336</th>\n",
       "      <td>0.682372</td>\n",
       "    </tr>\n",
       "    <tr>\n",
       "      <th rowspan=\"3\" valign=\"top\">3</th>\n",
       "      <th>768</th>\n",
       "      <td>0.780152</td>\n",
       "    </tr>\n",
       "    <tr>\n",
       "      <th>1325</th>\n",
       "      <td>0.251733</td>\n",
       "    </tr>\n",
       "    <tr>\n",
       "      <th>1336</th>\n",
       "      <td>0.578905</td>\n",
       "    </tr>\n",
       "    <tr>\n",
       "      <th rowspan=\"9\" valign=\"top\">05</th>\n",
       "      <th rowspan=\"3\" valign=\"top\">1</th>\n",
       "      <th>768</th>\n",
       "      <td>0.941458</td>\n",
       "    </tr>\n",
       "    <tr>\n",
       "      <th>1325</th>\n",
       "      <td>0.379415</td>\n",
       "    </tr>\n",
       "    <tr>\n",
       "      <th>1336</th>\n",
       "      <td>0.747640</td>\n",
       "    </tr>\n",
       "    <tr>\n",
       "      <th rowspan=\"3\" valign=\"top\">2</th>\n",
       "      <th>768</th>\n",
       "      <td>0.905201</td>\n",
       "    </tr>\n",
       "    <tr>\n",
       "      <th>1325</th>\n",
       "      <td>0.525983</td>\n",
       "    </tr>\n",
       "    <tr>\n",
       "      <th>1336</th>\n",
       "      <td>0.759472</td>\n",
       "    </tr>\n",
       "    <tr>\n",
       "      <th rowspan=\"3\" valign=\"top\">3</th>\n",
       "      <th>768</th>\n",
       "      <td>0.932171</td>\n",
       "    </tr>\n",
       "    <tr>\n",
       "      <th>1325</th>\n",
       "      <td>0.542683</td>\n",
       "    </tr>\n",
       "    <tr>\n",
       "      <th>1336</th>\n",
       "      <td>0.932634</td>\n",
       "    </tr>\n",
       "  </tbody>\n",
       "</table>\n",
       "</div>"
      ],
      "text/plain": [
       "                                 Ratio\n",
       "Tip brand # of tips rep peak          \n",
       "Sarstedt  00        1   768   1.021829\n",
       "                        1325  0.221023\n",
       "                        1336  0.155446\n",
       "                    2   768   1.120642\n",
       "                        1325  0.378128\n",
       "                        1336  0.631729\n",
       "                    3   768   1.221379\n",
       "                        1325  0.609725\n",
       "                        1336  1.075337\n",
       "          10        1   768   0.841388\n",
       "                        1325  0.497917\n",
       "                        1336  0.855660\n",
       "                    2   768   0.891556\n",
       "                        1325  0.458259\n",
       "                        1336  0.739638\n",
       "                    3   768   0.844550\n",
       "                        1325  0.500748\n",
       "                        1336  0.870660\n",
       "          30        1   768   0.854325\n",
       "                        1325  0.339784\n",
       "                        1336  0.606284\n",
       "                    2   768   0.752720\n",
       "                        1325  0.221407\n",
       "                        1336  0.682372\n",
       "                    3   768   0.780152\n",
       "                        1325  0.251733\n",
       "                        1336  0.578905\n",
       "          05        1   768   0.941458\n",
       "                        1325  0.379415\n",
       "                        1336  0.747640\n",
       "                    2   768   0.905201\n",
       "                        1325  0.525983\n",
       "                        1336  0.759472\n",
       "                    3   768   0.932171\n",
       "                        1325  0.542683\n",
       "                        1336  0.932634"
      ]
     },
     "execution_count": 15,
     "metadata": {},
     "output_type": "execute_result"
    }
   ],
   "source": [
    "ratios_way2"
   ]
  },
  {
   "cell_type": "markdown",
   "metadata": {},
   "source": [
    "## Plotting the data\n",
    "Starting with a cell to play around with the grouping."
   ]
  },
  {
   "cell_type": "code",
   "execution_count": 16,
   "metadata": {},
   "outputs": [
    {
     "data": {
      "text/html": [
       "<div>\n",
       "<style scoped>\n",
       "    .dataframe tbody tr th:only-of-type {\n",
       "        vertical-align: middle;\n",
       "    }\n",
       "\n",
       "    .dataframe tbody tr th {\n",
       "        vertical-align: top;\n",
       "    }\n",
       "\n",
       "    .dataframe thead th {\n",
       "        text-align: right;\n",
       "    }\n",
       "</style>\n",
       "<table border=\"1\" class=\"dataframe\">\n",
       "  <thead>\n",
       "    <tr style=\"text-align: right;\">\n",
       "      <th></th>\n",
       "      <th></th>\n",
       "      <th></th>\n",
       "      <th>Ratio</th>\n",
       "    </tr>\n",
       "    <tr>\n",
       "      <th>Tip brand</th>\n",
       "      <th>peak</th>\n",
       "      <th># of tips</th>\n",
       "      <th></th>\n",
       "    </tr>\n",
       "  </thead>\n",
       "  <tbody>\n",
       "    <tr>\n",
       "      <th rowspan=\"12\" valign=\"top\">Sarstedt</th>\n",
       "      <th rowspan=\"4\" valign=\"top\">1325</th>\n",
       "      <th>00</th>\n",
       "      <td>0.402959</td>\n",
       "    </tr>\n",
       "    <tr>\n",
       "      <th>05</th>\n",
       "      <td>0.482693</td>\n",
       "    </tr>\n",
       "    <tr>\n",
       "      <th>10</th>\n",
       "      <td>0.485641</td>\n",
       "    </tr>\n",
       "    <tr>\n",
       "      <th>30</th>\n",
       "      <td>0.270975</td>\n",
       "    </tr>\n",
       "    <tr>\n",
       "      <th rowspan=\"4\" valign=\"top\">1336</th>\n",
       "      <th>00</th>\n",
       "      <td>0.620837</td>\n",
       "    </tr>\n",
       "    <tr>\n",
       "      <th>05</th>\n",
       "      <td>0.813249</td>\n",
       "    </tr>\n",
       "    <tr>\n",
       "      <th>10</th>\n",
       "      <td>0.821986</td>\n",
       "    </tr>\n",
       "    <tr>\n",
       "      <th>30</th>\n",
       "      <td>0.622520</td>\n",
       "    </tr>\n",
       "    <tr>\n",
       "      <th rowspan=\"4\" valign=\"top\">768</th>\n",
       "      <th>00</th>\n",
       "      <td>1.121283</td>\n",
       "    </tr>\n",
       "    <tr>\n",
       "      <th>05</th>\n",
       "      <td>0.926277</td>\n",
       "    </tr>\n",
       "    <tr>\n",
       "      <th>10</th>\n",
       "      <td>0.859165</td>\n",
       "    </tr>\n",
       "    <tr>\n",
       "      <th>30</th>\n",
       "      <td>0.795732</td>\n",
       "    </tr>\n",
       "  </tbody>\n",
       "</table>\n",
       "</div>"
      ],
      "text/plain": [
       "                             Ratio\n",
       "Tip brand peak # of tips          \n",
       "Sarstedt  1325 00         0.402959\n",
       "               05         0.482693\n",
       "               10         0.485641\n",
       "               30         0.270975\n",
       "          1336 00         0.620837\n",
       "               05         0.813249\n",
       "               10         0.821986\n",
       "               30         0.622520\n",
       "          768  00         1.121283\n",
       "               05         0.926277\n",
       "               10         0.859165\n",
       "               30         0.795732"
      ]
     },
     "execution_count": 16,
     "metadata": {},
     "output_type": "execute_result"
    }
   ],
   "source": [
    "ratios_way2.groupby([\"Tip brand\",\"peak\",\"# of tips\",]).mean()"
   ]
  },
  {
   "cell_type": "markdown",
   "metadata": {},
   "source": [
    "Plot the data. Remember to use same grouping for means and sem!"
   ]
  },
  {
   "cell_type": "code",
   "execution_count": 85,
   "metadata": {},
   "outputs": [
    {
     "data": {
      "text/plain": [
       "<Figure size 432x288 with 0 Axes>"
      ]
     },
     "metadata": {},
     "output_type": "display_data"
    },
    {
     "data": {
      "image/png": "[encoded data removed]",
      "text/plain": [
       "<Figure size 432x288 with 1 Axes>"
      ]
     },
     "metadata": {
      "needs_background": "light"
     },
     "output_type": "display_data"
    }
   ],
   "source": [
    "\n",
    "# Plot the figure.\n",
    "plt.figure()\n",
    "ax = ratios_way2.groupby([\"Tip brand\",\"peak\",\"# of tips\",]).mean().plot(kind='bar',\n",
    "                                                 logy=False,\n",
    "                                                yerr=ratios_way2.groupby([\"Tip brand\",\"peak\",\"# of tips\",]).sem(),\n",
    "                                                legend=False\n",
    "                                                )\n",
    "ax.set_title('Adsorption of pipette tips')\n",
    "ax.set_xlabel('Sample')\n",
    "ax.set_ylabel('N14/N15 ratio')\n",
    "#ax.set_xticklabels(x_labels)\n",
    "\n",
    "\n",
    "def add_value_labels(ax, spacing=5):\n",
    "    \"\"\"Add labels to the end of each bar in a bar chart.\n",
    "\n",
    "    Arguments:\n",
    "        ax (matplotlib.axes.Axes): The matplotlib object containing the axes\n",
    "            of the plot to annotate.\n",
    "        spacing (int): The distance between the labels and the bars.\n",
    "    \"\"\"\n",
    "\n",
    "    # For each bar: Place a label\n",
    "    for rect in ax.patches:\n",
    "        # Get X and Y placement of label from rect.\n",
    "        y_value = rect.get_height()\n",
    "        x_value = rect.get_x() + rect.get_width() / 2\n",
    "\n",
    "        # Number of points between bar and label. Change to your liking.\n",
    "        space = spacing\n",
    "        # Vertical alignment for positive values\n",
    "        va = 'bottom'\n",
    "\n",
    "        # If value of bar is negative: Place label below bar\n",
    "        if y_value < 0:\n",
    "            # Invert space to place label below\n",
    "            space *= -1\n",
    "            # Vertically align label at top\n",
    "            va = 'top'\n",
    "\n",
    "        # Use Y value as label and format number with one decimal place\n",
    "        label = \"{:.2f}\".format(y_value)\n",
    "\n",
    "        # Create annotation\n",
    "        ax.annotate(\n",
    "            label,                      # Use `label` as label\n",
    "            (x_value, y_value),         # Place label at end of the bar\n",
    "            xytext=(0, space),          # Vertically shift label by `space`\n",
    "            textcoords=\"offset points\", # Interpret `xytext` as offset in points\n",
    "            ha='right',                # Horizontally center label\n",
    "            va=va)                      # Vertically align label differently for\n",
    "                                        # positive and negative values.\n",
    "\n",
    "\n",
    "# Call the function above. All the magic happens there.\n",
    "add_value_labels(ax)\n",
    "plt.ylim(0,1.5) #manually adjust y axis \n",
    "plt.tight_layout()\n",
    "plt.savefig(\"ratios_labeled2.svg\") #save plot"
   ]
  },
  {
   "cell_type": "markdown",
   "metadata": {},
   "source": [
    "Convert the ratios to concentrations. In this case I spiked the N14 samples with a final conc of 2.61 µM N15 labeled $A{\\beta}_{m1-42}$"
   ]
  },
  {
   "cell_type": "code",
   "execution_count": 22,
   "metadata": {},
   "outputs": [
    {
     "data": {
      "text/html": [
       "<div>\n",
       "<style scoped>\n",
       "    .dataframe tbody tr th:only-of-type {\n",
       "        vertical-align: middle;\n",
       "    }\n",
       "\n",
       "    .dataframe tbody tr th {\n",
       "        vertical-align: top;\n",
       "    }\n",
       "\n",
       "    .dataframe thead th {\n",
       "        text-align: right;\n",
       "    }\n",
       "</style>\n",
       "<table border=\"1\" class=\"dataframe\">\n",
       "  <thead>\n",
       "    <tr style=\"text-align: right;\">\n",
       "      <th></th>\n",
       "      <th></th>\n",
       "      <th></th>\n",
       "      <th></th>\n",
       "      <th>Ratio</th>\n",
       "    </tr>\n",
       "    <tr>\n",
       "      <th>Tip brand</th>\n",
       "      <th># of tips</th>\n",
       "      <th>rep</th>\n",
       "      <th>peak</th>\n",
       "      <th></th>\n",
       "    </tr>\n",
       "  </thead>\n",
       "  <tbody>\n",
       "    <tr>\n",
       "      <th rowspan=\"36\" valign=\"top\">Sarstedt</th>\n",
       "      <th rowspan=\"9\" valign=\"top\">00</th>\n",
       "      <th rowspan=\"3\" valign=\"top\">1</th>\n",
       "      <th>768</th>\n",
       "      <td>2.666975</td>\n",
       "    </tr>\n",
       "    <tr>\n",
       "      <th>1325</th>\n",
       "      <td>0.576869</td>\n",
       "    </tr>\n",
       "    <tr>\n",
       "      <th>1336</th>\n",
       "      <td>0.405714</td>\n",
       "    </tr>\n",
       "    <tr>\n",
       "      <th rowspan=\"3\" valign=\"top\">2</th>\n",
       "      <th>768</th>\n",
       "      <td>2.924875</td>\n",
       "    </tr>\n",
       "    <tr>\n",
       "      <th>1325</th>\n",
       "      <td>0.986915</td>\n",
       "    </tr>\n",
       "    <tr>\n",
       "      <th>1336</th>\n",
       "      <td>1.648812</td>\n",
       "    </tr>\n",
       "    <tr>\n",
       "      <th rowspan=\"3\" valign=\"top\">3</th>\n",
       "      <th>768</th>\n",
       "      <td>3.187800</td>\n",
       "    </tr>\n",
       "    <tr>\n",
       "      <th>1325</th>\n",
       "      <td>1.591383</td>\n",
       "    </tr>\n",
       "    <tr>\n",
       "      <th>1336</th>\n",
       "      <td>2.806629</td>\n",
       "    </tr>\n",
       "    <tr>\n",
       "      <th rowspan=\"9\" valign=\"top\">10</th>\n",
       "      <th rowspan=\"3\" valign=\"top\">1</th>\n",
       "      <th>768</th>\n",
       "      <td>2.196022</td>\n",
       "    </tr>\n",
       "    <tr>\n",
       "      <th>1325</th>\n",
       "      <td>1.299562</td>\n",
       "    </tr>\n",
       "    <tr>\n",
       "      <th>1336</th>\n",
       "      <td>2.233272</td>\n",
       "    </tr>\n",
       "    <tr>\n",
       "      <th rowspan=\"3\" valign=\"top\">2</th>\n",
       "      <th>768</th>\n",
       "      <td>2.326962</td>\n",
       "    </tr>\n",
       "    <tr>\n",
       "      <th>1325</th>\n",
       "      <td>1.196056</td>\n",
       "    </tr>\n",
       "    <tr>\n",
       "      <th>1336</th>\n",
       "      <td>1.930454</td>\n",
       "    </tr>\n",
       "    <tr>\n",
       "      <th rowspan=\"3\" valign=\"top\">3</th>\n",
       "      <th>768</th>\n",
       "      <td>2.204276</td>\n",
       "    </tr>\n",
       "    <tr>\n",
       "      <th>1325</th>\n",
       "      <td>1.306953</td>\n",
       "    </tr>\n",
       "    <tr>\n",
       "      <th>1336</th>\n",
       "      <td>2.272422</td>\n",
       "    </tr>\n",
       "    <tr>\n",
       "      <th rowspan=\"9\" valign=\"top\">30</th>\n",
       "      <th rowspan=\"3\" valign=\"top\">1</th>\n",
       "      <th>768</th>\n",
       "      <td>2.229788</td>\n",
       "    </tr>\n",
       "    <tr>\n",
       "      <th>1325</th>\n",
       "      <td>0.886837</td>\n",
       "    </tr>\n",
       "    <tr>\n",
       "      <th>1336</th>\n",
       "      <td>1.582401</td>\n",
       "    </tr>\n",
       "    <tr>\n",
       "      <th rowspan=\"3\" valign=\"top\">2</th>\n",
       "      <th>768</th>\n",
       "      <td>1.964598</td>\n",
       "    </tr>\n",
       "    <tr>\n",
       "      <th>1325</th>\n",
       "      <td>0.577873</td>\n",
       "    </tr>\n",
       "    <tr>\n",
       "      <th>1336</th>\n",
       "      <td>1.780990</td>\n",
       "    </tr>\n",
       "    <tr>\n",
       "      <th rowspan=\"3\" valign=\"top\">3</th>\n",
       "      <th>768</th>\n",
       "      <td>2.036195</td>\n",
       "    </tr>\n",
       "    <tr>\n",
       "      <th>1325</th>\n",
       "      <td>0.657023</td>\n",
       "    </tr>\n",
       "    <tr>\n",
       "      <th>1336</th>\n",
       "      <td>1.510942</td>\n",
       "    </tr>\n",
       "    <tr>\n",
       "      <th rowspan=\"9\" valign=\"top\">05</th>\n",
       "      <th rowspan=\"3\" valign=\"top\">1</th>\n",
       "      <th>768</th>\n",
       "      <td>2.457205</td>\n",
       "    </tr>\n",
       "    <tr>\n",
       "      <th>1325</th>\n",
       "      <td>0.990272</td>\n",
       "    </tr>\n",
       "    <tr>\n",
       "      <th>1336</th>\n",
       "      <td>1.951340</td>\n",
       "    </tr>\n",
       "    <tr>\n",
       "      <th rowspan=\"3\" valign=\"top\">2</th>\n",
       "      <th>768</th>\n",
       "      <td>2.362575</td>\n",
       "    </tr>\n",
       "    <tr>\n",
       "      <th>1325</th>\n",
       "      <td>1.372815</td>\n",
       "    </tr>\n",
       "    <tr>\n",
       "      <th>1336</th>\n",
       "      <td>1.982222</td>\n",
       "    </tr>\n",
       "    <tr>\n",
       "      <th rowspan=\"3\" valign=\"top\">3</th>\n",
       "      <th>768</th>\n",
       "      <td>2.432967</td>\n",
       "    </tr>\n",
       "    <tr>\n",
       "      <th>1325</th>\n",
       "      <td>1.416402</td>\n",
       "    </tr>\n",
       "    <tr>\n",
       "      <th>1336</th>\n",
       "      <td>2.434175</td>\n",
       "    </tr>\n",
       "  </tbody>\n",
       "</table>\n",
       "</div>"
      ],
      "text/plain": [
       "                                 Ratio\n",
       "Tip brand # of tips rep peak          \n",
       "Sarstedt  00        1   768   2.666975\n",
       "                        1325  0.576869\n",
       "                        1336  0.405714\n",
       "                    2   768   2.924875\n",
       "                        1325  0.986915\n",
       "                        1336  1.648812\n",
       "                    3   768   3.187800\n",
       "                        1325  1.591383\n",
       "                        1336  2.806629\n",
       "          10        1   768   2.196022\n",
       "                        1325  1.299562\n",
       "                        1336  2.233272\n",
       "                    2   768   2.326962\n",
       "                        1325  1.196056\n",
       "                        1336  1.930454\n",
       "                    3   768   2.204276\n",
       "                        1325  1.306953\n",
       "                        1336  2.272422\n",
       "          30        1   768   2.229788\n",
       "                        1325  0.886837\n",
       "                        1336  1.582401\n",
       "                    2   768   1.964598\n",
       "                        1325  0.577873\n",
       "                        1336  1.780990\n",
       "                    3   768   2.036195\n",
       "                        1325  0.657023\n",
       "                        1336  1.510942\n",
       "          05        1   768   2.457205\n",
       "                        1325  0.990272\n",
       "                        1336  1.951340\n",
       "                    2   768   2.362575\n",
       "                        1325  1.372815\n",
       "                        1336  1.982222\n",
       "                    3   768   2.432967\n",
       "                        1325  1.416402\n",
       "                        1336  2.434175"
      ]
     },
     "execution_count": 22,
     "metadata": {},
     "output_type": "execute_result"
    }
   ],
   "source": [
    "conc_way2 = ratios_way2 * 2.61\n",
    "conc_way2"
   ]
  },
  {
   "cell_type": "markdown",
   "metadata": {},
   "source": [
    "Plot same way as above but now with concentrations instead which is more meaningful as end product. "
   ]
  },
  {
   "cell_type": "code",
   "execution_count": 23,
   "metadata": {},
   "outputs": [
    {
     "ename": "AttributeError",
     "evalue": "'numpy.ndarray' object has no attribute 'set_title'",
     "output_type": "error",
     "traceback": [
      "\u001b[0;31m---------------------------------------------------------------------------\u001b[0m",
      "\u001b[0;31mAttributeError\u001b[0m                            Traceback (most recent call last)",
      "\u001b[0;32m<ipython-input-23-2dd2c728a388>\u001b[0m in \u001b[0;36m<module>\u001b[0;34m\u001b[0m\n\u001b[1;32m      5\u001b[0m                                                 \u001b[0mlegend\u001b[0m\u001b[0;34m=\u001b[0m\u001b[0;32mFalse\u001b[0m\u001b[0;34m,\u001b[0m \u001b[0msubplots\u001b[0m\u001b[0;34m=\u001b[0m\u001b[0;32mTrue\u001b[0m\u001b[0;34m\u001b[0m\u001b[0;34m\u001b[0m\u001b[0m\n\u001b[1;32m      6\u001b[0m                                                 )\n\u001b[0;32m----> 7\u001b[0;31m \u001b[0max\u001b[0m\u001b[0;34m.\u001b[0m\u001b[0mset_title\u001b[0m\u001b[0;34m(\u001b[0m\u001b[0;34m'Adsorption of pipette tips'\u001b[0m\u001b[0;34m)\u001b[0m\u001b[0;34m\u001b[0m\u001b[0;34m\u001b[0m\u001b[0m\n\u001b[0m\u001b[1;32m      8\u001b[0m \u001b[0max\u001b[0m\u001b[0;34m.\u001b[0m\u001b[0mset_xlabel\u001b[0m\u001b[0;34m(\u001b[0m\u001b[0;34m'Sample / (Brand, peak, # of tips used)'\u001b[0m\u001b[0;34m)\u001b[0m\u001b[0;34m\u001b[0m\u001b[0;34m\u001b[0m\u001b[0m\n\u001b[1;32m      9\u001b[0m \u001b[0max\u001b[0m\u001b[0;34m.\u001b[0m\u001b[0mset_ylabel\u001b[0m\u001b[0;34m(\u001b[0m\u001b[0;34m'N14 conc / µM'\u001b[0m\u001b[0;34m)\u001b[0m\u001b[0;34m\u001b[0m\u001b[0;34m\u001b[0m\u001b[0m\n",
      "\u001b[0;31mAttributeError\u001b[0m: 'numpy.ndarray' object has no attribute 'set_title'"
     ]
    },
    {
     "data": {
      "text/plain": [
       "<Figure size 432x288 with 0 Axes>"
      ]
     },
     "metadata": {},
     "output_type": "display_data"
    },
    {
     "data": {
      "image/png": "[encoded data removed]",
      "text/plain": [
       "<Figure size 432x288 with 1 Axes>"
      ]
     },
     "metadata": {
      "needs_background": "light"
     },
     "output_type": "display_data"
    }
   ],
   "source": [
    "plt.figure()\n",
    "ax = conc_way2.groupby([\"Tip brand\",\"peak\",\"# of tips\",]).mean().plot(kind='bar',\n",
    "                                                 logy=False,\n",
    "                                                yerr=conc_way2.groupby([\"Tip brand\",\"peak\",\"# of tips\",]).sem(),\n",
    "                                                legend=False, subplots=True\n",
    "                                                )\n",
    "ax.set_title('Adsorption of pipette tips')\n",
    "ax.set_xlabel('Sample / (Brand, peak, # of tips used)')\n",
    "ax.set_ylabel('N14 conc / µM')\n",
    "#ax.set_xticklabels(x_labels)\n",
    "\n",
    "\n",
    "add_value_labels(ax)\n",
    "plt.ylim(0,3.5)\n",
    "plt.tight_layout()\n",
    "plt.savefig(\"conc_labeled.svg\")"
   ]
  },
  {
   "cell_type": "code",
   "execution_count": 57,
   "metadata": {},
   "outputs": [
    {
     "data": {
      "text/plain": [
       "<BarContainer object of 3 artists>"
      ]
     },
     "execution_count": 57,
     "metadata": {},
     "output_type": "execute_result"
    },
    {
     "data": {
      "image/png": "[encoded data removed]",
      "text/plain": [
       "<Figure size 432x288 with 3 Axes>"
      ]
     },
     "metadata": {
      "needs_background": "light"
     },
     "output_type": "display_data"
    }
   ],
   "source": [
    "layout =\"\"\"\n",
    "A\n",
    "B\n",
    "C\n",
    "\"\"\"\n",
    "fig = plt.figure(constrained_layout=True)\n",
    "ax_dict = fig.subplot_mosaic(layout)\n",
    "ax_dict['A'].bar(['a', 'b', 'c'], [5, 7, 9])\n"
   ]
  },
  {
   "cell_type": "code",
   "execution_count": 99,
   "metadata": {},
   "outputs": [
    {
     "data": {
      "image/png": "[encoded data removed]",
      "text/plain": [
       "<Figure size 720x720 with 3 Axes>"
      ]
     },
     "metadata": {
      "needs_background": "light"
     },
     "output_type": "display_data"
    }
   ],
   "source": [
    "layout =\"\"\"\n",
    "A\n",
    "B\n",
    "C\n",
    "\"\"\"\n",
    "fig = plt.figure(constrained_layout=True)\n",
    "ax_dict = fig.subplot_mosaic(layout)\n",
    "peaknames=['768','1325','1336']\n",
    "fig.suptitle('Adsorption of abeta on pipette tips')\n",
    "conc_way2.filter(like=peaknames[0],axis=0).groupby([\"# of tips\"]).mean().plot(kind='bar',\n",
    "                             logy=False,\n",
    "                            yerr=conc_way2.filter(like=peaknames[0],axis=0).groupby([\"# of tips\"]).sem(),\n",
    "                            legend=False, ax=ax_dict['A'], ylim=(0,4), figsize=(10,10), title=('Peak: ' + peaknames[0]),\n",
    "                            sharex=True, ylabel='N14 conc / µM'\n",
    "                            )\n",
    "conc_way2.filter(like=peaknames[1],axis=0).groupby([\"# of tips\"]).mean().plot(kind='bar',\n",
    "                             logy=False,\n",
    "                            yerr=conc_way2.filter(like=peaknames[1],axis=0).groupby([\"# of tips\"]).sem(),\n",
    "                            legend=False, ax=ax_dict['B'], title=('Peak: ' + peaknames[1]), ylabel='N14 conc / µM'\n",
    "                            )\n",
    "conc_way2.filter(like=peaknames[2],axis=0).groupby([\"# of tips\"]).mean().plot(kind='bar',\n",
    "                             logy=False,\n",
    "                            yerr=conc_way2.filter(like=peaknames[2],axis=0).groupby([\"# of tips\"]).sem(),\n",
    "                            legend=False, ax=ax_dict['C'], title=('Peak: ' + peaknames[2]), ylabel='N14 conc / µM'\n",
    "                            )\n",
    "add_value_labels(ax_dict['A'],7)\n",
    "add_value_labels(ax_dict['B'],7)\n",
    "add_value_labels(ax_dict['C'],7)\n",
    "plt.savefig(\"conc_labeled_composite.svg\")"
   ]
  },
  {
   "cell_type": "code",
   "execution_count": 54,
   "metadata": {},
   "outputs": [
    {
     "data": {
      "image/png": "[encoded data removed]",
      "text/plain": [
       "<Figure size 432x288 with 3 Axes>"
      ]
     },
     "metadata": {
      "needs_background": "light"
     },
     "output_type": "display_data"
    },
    {
     "data": {
      "image/png": "[encoded data removed]",
      "text/plain": [
       "<Figure size 432x288 with 1 Axes>"
      ]
     },
     "metadata": {
      "needs_background": "light"
     },
     "output_type": "display_data"
    }
   ],
   "source": [
    "ax1.set_title('Adsorption of pipette tips')\n",
    "ax1.set_xlabel('Sample / (Brand, peak, # of tips used)')\n",
    "ax1.set_ylabel('N14 conc / µM')\n",
    "#ax.set_xticklabels(x_labels)\n",
    "\n",
    "\n",
    "add_value_labels(ax1)\n",
    "plt.ylim(0,3.5)\n",
    "plt.tight_layout()\n",
    "plt.savefig(\"conc_labeled.svg\")"
   ]
  },
  {
   "cell_type": "code",
   "execution_count": 34,
   "metadata": {},
   "outputs": [
    {
     "data": {
      "text/plain": [
       "FrozenList([['Sarstedt'], ['00', '05', '10', '30'], ['1', '2', '3'], ['1325', '1336', '768']])"
      ]
     },
     "execution_count": 34,
     "metadata": {},
     "output_type": "execute_result"
    }
   ],
   "source": [
    "conc_way2.index.levels"
   ]
  },
  {
   "cell_type": "code",
   "execution_count": 72,
   "metadata": {},
   "outputs": [
    {
     "data": {
      "text/plain": [
       "<pandas.core.groupby.generic.DataFrameGroupBy object at 0x7facefea8ee0>"
      ]
     },
     "execution_count": 72,
     "metadata": {},
     "output_type": "execute_result"
    }
   ],
   "source": [
    "conc_way2.filter(like='1339',axis=0).groupby([\"# of tips\"])"
   ]
  },
  {
   "cell_type": "code",
   "execution_count": 66,
   "metadata": {},
   "outputs": [
    {
     "data": {
      "text/plain": [
       "[array([2.92654976]),\n",
       " array([2.41758227]),\n",
       " array([2.24242]),\n",
       " array([2.07686052])]"
      ]
     },
     "execution_count": 66,
     "metadata": {},
     "output_type": "execute_result"
    }
   ],
   "source": [
    "list(conc_way2.filter(like='768',axis=0).groupby([\"# of tips\"]).mean().values)"
   ]
  },
  {
   "cell_type": "code",
   "execution_count": 43,
   "metadata": {},
   "outputs": [
    {
     "ename": "ValueError",
     "evalue": "If using all scalar values, you must pass an index",
     "output_type": "error",
     "traceback": [
      "\u001b[0;31m---------------------------------------------------------------------------\u001b[0m",
      "\u001b[0;31mValueError\u001b[0m                                Traceback (most recent call last)",
      "\u001b[0;32m<ipython-input-43-2866ea0fbaa1>\u001b[0m in \u001b[0;36m<module>\u001b[0;34m\u001b[0m\n\u001b[0;32m----> 1\u001b[0;31m test = pd.DataFrame({\"768\":conc_way2.filter(like='768',axis=0),\n\u001b[0m\u001b[1;32m      2\u001b[0m                     \u001b[0;34m\"1325\"\u001b[0m\u001b[0;34m:\u001b[0m\u001b[0mconc_way2\u001b[0m\u001b[0;34m.\u001b[0m\u001b[0mfilter\u001b[0m\u001b[0;34m(\u001b[0m\u001b[0mlike\u001b[0m\u001b[0;34m=\u001b[0m\u001b[0;34m'1325'\u001b[0m\u001b[0;34m,\u001b[0m\u001b[0maxis\u001b[0m\u001b[0;34m=\u001b[0m\u001b[0;36m0\u001b[0m\u001b[0;34m)\u001b[0m\u001b[0;34m,\u001b[0m\u001b[0;34m\u001b[0m\u001b[0;34m\u001b[0m\u001b[0m\n\u001b[1;32m      3\u001b[0m                     \"1339\":conc_way2.filter(like='1339',axis=0)})\n\u001b[1;32m      4\u001b[0m \u001b[0mtest\u001b[0m\u001b[0;34m\u001b[0m\u001b[0;34m\u001b[0m\u001b[0m\n",
      "\u001b[0;32m~/anaconda3/lib/python3.8/site-packages/pandas/core/frame.py\u001b[0m in \u001b[0;36m__init__\u001b[0;34m(self, data, index, columns, dtype, copy)\u001b[0m\n\u001b[1;32m    466\u001b[0m \u001b[0;34m\u001b[0m\u001b[0m\n\u001b[1;32m    467\u001b[0m         \u001b[0;32melif\u001b[0m \u001b[0misinstance\u001b[0m\u001b[0;34m(\u001b[0m\u001b[0mdata\u001b[0m\u001b[0;34m,\u001b[0m \u001b[0mdict\u001b[0m\u001b[0;34m)\u001b[0m\u001b[0;34m:\u001b[0m\u001b[0;34m\u001b[0m\u001b[0;34m\u001b[0m\u001b[0m\n\u001b[0;32m--> 468\u001b[0;31m             \u001b[0mmgr\u001b[0m \u001b[0;34m=\u001b[0m \u001b[0minit_dict\u001b[0m\u001b[0;34m(\u001b[0m\u001b[0mdata\u001b[0m\u001b[0;34m,\u001b[0m \u001b[0mindex\u001b[0m\u001b[0;34m,\u001b[0m \u001b[0mcolumns\u001b[0m\u001b[0;34m,\u001b[0m \u001b[0mdtype\u001b[0m\u001b[0;34m=\u001b[0m\u001b[0mdtype\u001b[0m\u001b[0;34m)\u001b[0m\u001b[0;34m\u001b[0m\u001b[0;34m\u001b[0m\u001b[0m\n\u001b[0m\u001b[1;32m    469\u001b[0m         \u001b[0;32melif\u001b[0m \u001b[0misinstance\u001b[0m\u001b[0;34m(\u001b[0m\u001b[0mdata\u001b[0m\u001b[0;34m,\u001b[0m \u001b[0mma\u001b[0m\u001b[0;34m.\u001b[0m\u001b[0mMaskedArray\u001b[0m\u001b[0;34m)\u001b[0m\u001b[0;34m:\u001b[0m\u001b[0;34m\u001b[0m\u001b[0;34m\u001b[0m\u001b[0m\n\u001b[1;32m    470\u001b[0m             \u001b[0;32mimport\u001b[0m \u001b[0mnumpy\u001b[0m\u001b[0;34m.\u001b[0m\u001b[0mma\u001b[0m\u001b[0;34m.\u001b[0m\u001b[0mmrecords\u001b[0m \u001b[0;32mas\u001b[0m \u001b[0mmrecords\u001b[0m\u001b[0;34m\u001b[0m\u001b[0;34m\u001b[0m\u001b[0m\n",
      "\u001b[0;32m~/anaconda3/lib/python3.8/site-packages/pandas/core/internals/construction.py\u001b[0m in \u001b[0;36minit_dict\u001b[0;34m(data, index, columns, dtype)\u001b[0m\n\u001b[1;32m    281\u001b[0m             \u001b[0marr\u001b[0m \u001b[0;32mif\u001b[0m \u001b[0;32mnot\u001b[0m \u001b[0mis_datetime64tz_dtype\u001b[0m\u001b[0;34m(\u001b[0m\u001b[0marr\u001b[0m\u001b[0;34m)\u001b[0m \u001b[0;32melse\u001b[0m \u001b[0marr\u001b[0m\u001b[0;34m.\u001b[0m\u001b[0mcopy\u001b[0m\u001b[0;34m(\u001b[0m\u001b[0;34m)\u001b[0m \u001b[0;32mfor\u001b[0m \u001b[0marr\u001b[0m \u001b[0;32min\u001b[0m \u001b[0marrays\u001b[0m\u001b[0;34m\u001b[0m\u001b[0;34m\u001b[0m\u001b[0m\n\u001b[1;32m    282\u001b[0m         ]\n\u001b[0;32m--> 283\u001b[0;31m     \u001b[0;32mreturn\u001b[0m \u001b[0marrays_to_mgr\u001b[0m\u001b[0;34m(\u001b[0m\u001b[0marrays\u001b[0m\u001b[0;34m,\u001b[0m \u001b[0mdata_names\u001b[0m\u001b[0;34m,\u001b[0m \u001b[0mindex\u001b[0m\u001b[0;34m,\u001b[0m \u001b[0mcolumns\u001b[0m\u001b[0;34m,\u001b[0m \u001b[0mdtype\u001b[0m\u001b[0;34m=\u001b[0m\u001b[0mdtype\u001b[0m\u001b[0;34m)\u001b[0m\u001b[0;34m\u001b[0m\u001b[0;34m\u001b[0m\u001b[0m\n\u001b[0m\u001b[1;32m    284\u001b[0m \u001b[0;34m\u001b[0m\u001b[0m\n\u001b[1;32m    285\u001b[0m \u001b[0;34m\u001b[0m\u001b[0m\n",
      "\u001b[0;32m~/anaconda3/lib/python3.8/site-packages/pandas/core/internals/construction.py\u001b[0m in \u001b[0;36marrays_to_mgr\u001b[0;34m(arrays, arr_names, index, columns, dtype, verify_integrity)\u001b[0m\n\u001b[1;32m     76\u001b[0m         \u001b[0;31m# figure out the index, if necessary\u001b[0m\u001b[0;34m\u001b[0m\u001b[0;34m\u001b[0m\u001b[0;34m\u001b[0m\u001b[0m\n\u001b[1;32m     77\u001b[0m         \u001b[0;32mif\u001b[0m \u001b[0mindex\u001b[0m \u001b[0;32mis\u001b[0m \u001b[0;32mNone\u001b[0m\u001b[0;34m:\u001b[0m\u001b[0;34m\u001b[0m\u001b[0;34m\u001b[0m\u001b[0m\n\u001b[0;32m---> 78\u001b[0;31m             \u001b[0mindex\u001b[0m \u001b[0;34m=\u001b[0m \u001b[0mextract_index\u001b[0m\u001b[0;34m(\u001b[0m\u001b[0marrays\u001b[0m\u001b[0;34m)\u001b[0m\u001b[0;34m\u001b[0m\u001b[0;34m\u001b[0m\u001b[0m\n\u001b[0m\u001b[1;32m     79\u001b[0m         \u001b[0;32melse\u001b[0m\u001b[0;34m:\u001b[0m\u001b[0;34m\u001b[0m\u001b[0;34m\u001b[0m\u001b[0m\n\u001b[1;32m     80\u001b[0m             \u001b[0mindex\u001b[0m \u001b[0;34m=\u001b[0m \u001b[0mensure_index\u001b[0m\u001b[0;34m(\u001b[0m\u001b[0mindex\u001b[0m\u001b[0;34m)\u001b[0m\u001b[0;34m\u001b[0m\u001b[0;34m\u001b[0m\u001b[0m\n",
      "\u001b[0;32m~/anaconda3/lib/python3.8/site-packages/pandas/core/internals/construction.py\u001b[0m in \u001b[0;36mextract_index\u001b[0;34m(data)\u001b[0m\n\u001b[1;32m    385\u001b[0m \u001b[0;34m\u001b[0m\u001b[0m\n\u001b[1;32m    386\u001b[0m         \u001b[0;32mif\u001b[0m \u001b[0;32mnot\u001b[0m \u001b[0mindexes\u001b[0m \u001b[0;32mand\u001b[0m \u001b[0;32mnot\u001b[0m \u001b[0mraw_lengths\u001b[0m\u001b[0;34m:\u001b[0m\u001b[0;34m\u001b[0m\u001b[0;34m\u001b[0m\u001b[0m\n\u001b[0;32m--> 387\u001b[0;31m             \u001b[0;32mraise\u001b[0m \u001b[0mValueError\u001b[0m\u001b[0;34m(\u001b[0m\u001b[0;34m\"If using all scalar values, you must pass an index\"\u001b[0m\u001b[0;34m)\u001b[0m\u001b[0;34m\u001b[0m\u001b[0;34m\u001b[0m\u001b[0m\n\u001b[0m\u001b[1;32m    388\u001b[0m \u001b[0;34m\u001b[0m\u001b[0m\n\u001b[1;32m    389\u001b[0m         \u001b[0;32mif\u001b[0m \u001b[0mhave_series\u001b[0m\u001b[0;34m:\u001b[0m\u001b[0;34m\u001b[0m\u001b[0;34m\u001b[0m\u001b[0m\n",
      "\u001b[0;31mValueError\u001b[0m: If using all scalar values, you must pass an index"
     ]
    }
   ],
   "source": [
    "test = pd.DataFrame({\"768\":conc_way2.filter(like='768',axis=0),\n",
    "                    \"1325\":conc_way2.filter(like='1325',axis=0),\n",
    "                    \"1339\":conc_way2.filter(like='1339',axis=0)})\n",
    "test"
   ]
  },
  {
   "cell_type": "code",
   "execution_count": 48,
   "metadata": {},
   "outputs": [
    {
     "data": {
      "text/html": [
       "<div>\n",
       "<style scoped>\n",
       "    .dataframe tbody tr th:only-of-type {\n",
       "        vertical-align: middle;\n",
       "    }\n",
       "\n",
       "    .dataframe tbody tr th {\n",
       "        vertical-align: top;\n",
       "    }\n",
       "\n",
       "    .dataframe thead th {\n",
       "        text-align: right;\n",
       "    }\n",
       "</style>\n",
       "<table border=\"1\" class=\"dataframe\">\n",
       "  <thead>\n",
       "    <tr style=\"text-align: right;\">\n",
       "      <th></th>\n",
       "      <th>Ratio</th>\n",
       "    </tr>\n",
       "    <tr>\n",
       "      <th># of tips</th>\n",
       "      <th></th>\n",
       "    </tr>\n",
       "  </thead>\n",
       "  <tbody>\n",
       "    <tr>\n",
       "      <th>00</th>\n",
       "      <td>2.926550</td>\n",
       "    </tr>\n",
       "    <tr>\n",
       "      <th>05</th>\n",
       "      <td>2.428786</td>\n",
       "    </tr>\n",
       "    <tr>\n",
       "      <th>10</th>\n",
       "      <td>2.242420</td>\n",
       "    </tr>\n",
       "    <tr>\n",
       "      <th>30</th>\n",
       "      <td>2.076861</td>\n",
       "    </tr>\n",
       "  </tbody>\n",
       "</table>\n",
       "</div>"
      ],
      "text/plain": [
       "              Ratio\n",
       "# of tips          \n",
       "00         2.926550\n",
       "05         2.428786\n",
       "10         2.242420\n",
       "30         2.076861"
      ]
     },
     "execution_count": 48,
     "metadata": {},
     "output_type": "execute_result"
    }
   ],
   "source": [
    "conc_way2.loc['Sarstedt', ['00', '05', '10', '30'],['1', '2', '3'],'768'].groupby([\"# of tips\"]).mean()"
   ]
  },
  {
   "cell_type": "code",
   "execution_count": 59,
   "metadata": {},
   "outputs": [
    {
     "data": {
      "text/plain": [
       "<Figure size 1440x1080 with 0 Axes>"
      ]
     },
     "metadata": {},
     "output_type": "display_data"
    },
    {
     "data": {
      "image/png": "[encoded data removed]",
      "text/plain": [
       "<Figure size 432x288 with 1 Axes>"
      ]
     },
     "metadata": {
      "needs_background": "light"
     },
     "output_type": "display_data"
    }
   ],
   "source": [
    "plt.figure(figsize=(20, 15))\n",
    "ax = conc_way2.loc['Sarstedt', ['00', '05', '10', '30'],['1', '2', '3'],'768'].groupby([\"# of tips\"]).mean().plot(kind='bar',\n",
    "                                                 logy=False,\n",
    "                                                yerr=conc_way2.loc['Sarstedt', ['00', '05', '10', '30'],['1', '2', '3'],'768'].groupby([\"# of tips\"]).sem(),\n",
    "                                                legend=False\n",
    "                                                )\n",
    "ax.set_title('Adsorption of pipette tips, only 768 peak')\n",
    "ax.set_xlabel('Sample / (Brand, peak, # of tips used)')\n",
    "ax.set_ylabel('N14 conc / µM')\n",
    "#ax.set_xticklabels(x_labels)\n",
    "\n",
    "add_value_labels(ax,9)\n",
    "plt.ylim(0,3.5)\n",
    "plt.tight_layout()\n",
    "plt.savefig(\"conc_labeled_only768.svg\")"
   ]
  },
  {
   "cell_type": "code",
   "execution_count": 18,
   "metadata": {},
   "outputs": [],
   "source": [
    "#dev\n",
    "input_data= list_of_data\n",
    "fault_tolerance = 0.3\n",
    "n14=ABm1_42_aspN_N14_peaks\n",
    "n15=ABm1_42_aspN_N15_peaks\n",
    "values=[]\n",
    "index_list=[]\n",
    "all_selected_n14_peaks = []\n",
    "all_selected_n15_peaks = []\n",
    "collected_tmps = []\n",
    "for x in input_data.keys():        \n",
    "    df=input_data[x]\n",
    "    for i in range(len(n14)):\n",
    "            tmp = df.loc[((df[\"m/z\"]>(n14[i]-fault_tolerance)) & (df[\"m/z\"]<(n14[i]+fault_tolerance)) |\n",
    "               (df[\"m/z\"]>(n15[i]-fault_tolerance)) & (df[\"m/z\"]<(n15[i]+fault_tolerance))), ]\n",
    "            if len(tmp) > 2:\n",
    "                tmp=tmp.sort_values('SN',ascending=False).iloc[0:2]\n",
    "            if len(tmp) == 2:\n",
    "                n14_isotopes= []\n",
    "                           \n",
    "                n14_isotopes.append(df.loc[((df[\"m/z\"]>(n14[i]-fault_tolerance)) & (df[\"m/z\"]<(n14[i]+fault_tolerance))),])\n",
    "                a=1\n",
    "                while (not df.loc[((df[\"m/z\"]>(tmp.iloc[0]['m/z']+a-0.1)) & (df[\"m/z\"]<(tmp.iloc[0]['m/z']+a+0.1))),].empty):\n",
    "                    n14_isotopes.append(df.loc[((df[\"m/z\"]>(tmp.iloc[0]['m/z']+a-0.1)) & (df[\"m/z\"]<(tmp.iloc[0]['m/z']+a+0.1))),])\n",
    "                    a+=1 \n",
    "                a=1\n",
    "                while (not df.loc[((df[\"m/z\"]>(tmp.iloc[0]['m/z']-a-0.1)) & (df[\"m/z\"]<(tmp.iloc[0]['m/z']-a+0.1))),].empty):\n",
    "                    n14_isotopes.append(df.loc[((df[\"m/z\"]>(tmp.iloc[0]['m/z']-a-0.1)) & (df[\"m/z\"]<(tmp.iloc[0]['m/z']-a+0.1))),])\n",
    "                    a+=1\n",
    "                if len(n14_isotopes)>1:\n",
    "                    df_14=pd.concat(n14_isotopes)\n",
    "                else:\n",
    "                    df_14=n14_isotopes[0]\n",
    "                \n",
    "                n15_isotopes= []\n",
    "                n15_isotopes.append(df.loc[((df[\"m/z\"]>(n15[i]-fault_tolerance)) & (df[\"m/z\"]<(n15[i]+fault_tolerance))),])\n",
    "                a=1\n",
    "                while (not df.loc[((df[\"m/z\"]>(tmp.iloc[1]['m/z']+a-0.1)) & (df[\"m/z\"]<(tmp.iloc[1]['m/z']+a+0.1))),].empty):\n",
    "                    n15_isotopes.append(df.loc[((df[\"m/z\"]>(tmp.iloc[1]['m/z']+a-0.1)) & (df[\"m/z\"]<(tmp.iloc[1]['m/z']+a+0.1))),])\n",
    "                    a+=1 \n",
    "                a=1\n",
    "                while (not df.loc[((df[\"m/z\"]>(tmp.iloc[1]['m/z']-a-0.1)) & (df[\"m/z\"]<(tmp.iloc[1]['m/z']-a+0.1))),].empty):\n",
    "                    n15_isotopes.append(df.loc[((df[\"m/z\"]>(tmp.iloc[1]['m/z']-a-0.1)) & (df[\"m/z\"]<(tmp.iloc[1]['m/z']-a+0.1))),])\n",
    "                    a+=1\n",
    "                if len(n15_isotopes)>1:\n",
    "                    df_15=pd.concat(n15_isotopes) \n",
    "                else:\n",
    "                    df_15=n15_isotopes[0]\n",
    "                values.append((df_14['Intens.'].sum()/df_15['Intens.'].sum()))\n",
    "                index_list.append((x.split(\"_\")[-2],str(n14[i]).split('.')[0]))\n",
    "                all_selected_n14_peaks.append(df_14)\n",
    "                all_selected_n15_peaks.append(df_15)\n",
    "            collected_tmps.append(tmp)\n",
    "data = pd.DataFrame({'Ratio':values})        \n",
    "data.index=pd.MultiIndex.from_tuples(index_list, names=[\"Well\",\"peak\"])"
   ]
  },
  {
   "cell_type": "code",
   "execution_count": 19,
   "metadata": {},
   "outputs": [
    {
     "name": "stdout",
     "output_type": "stream",
     "text": [
      "0\n",
      "0\n",
      "0\n",
      "1\n",
      "0\n",
      "0\n",
      "1\n",
      "0\n",
      "0\n",
      "1\n",
      "0\n",
      "0\n",
      "3\n",
      "0\n",
      "0\n",
      "3\n",
      "0\n",
      "0\n",
      "3\n",
      "0\n",
      "0\n",
      "3\n",
      "0\n",
      "0\n",
      "3\n",
      "0\n",
      "0\n",
      "3\n",
      "0\n",
      "0\n",
      "3\n",
      "0\n",
      "0\n",
      "3\n",
      "2\n",
      "2\n",
      "3\n",
      "2\n",
      "2\n",
      "3\n",
      "2\n",
      "2\n",
      "3\n",
      "2\n",
      "2\n"
     ]
    }
   ],
   "source": [
    "for x in collected_tmps:\n",
    "    print(len(x))"
   ]
  },
  {
   "cell_type": "code",
   "execution_count": null,
   "metadata": {},
   "outputs": [],
   "source": []
  }
 ],
 "metadata": {
  "kernelspec": {
   "display_name": "Python 3",
   "language": "python",
   "name": "python3"
  },
  "language_info": {
   "codemirror_mode": {
    "name": "ipython",
    "version": 3
   },
   "file_extension": ".py",
   "mimetype": "text/x-python",
   "name": "python",
   "nbconvert_exporter": "python",
   "pygments_lexer": "ipython3",
   "version": "3.8.5"
  }
 },
 "nbformat": 4,
 "nbformat_minor": 4
}
